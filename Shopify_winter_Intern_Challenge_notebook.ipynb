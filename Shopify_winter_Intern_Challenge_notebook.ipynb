{
  "nbformat": 4,
  "nbformat_minor": 0,
  "metadata": {
    "colab": {
      "name": "Shopify winter Intern Challenge.ipynb",
      "provenance": [],
      "collapsed_sections": [],
      "authorship_tag": "ABX9TyOd9MjMFLTps/vIdRdUBl+R",
      "include_colab_link": true
    },
    "kernelspec": {
      "name": "python3",
      "display_name": "Python 3"
    },
    "language_info": {
      "name": "python"
    }
  },
  "cells": [
    {
      "cell_type": "markdown",
      "metadata": {
        "id": "view-in-github",
        "colab_type": "text"
      },
      "source": [
        "<a href=\"https://colab.research.google.com/github/illiyas-sha/Shopify-Winter-2022-Data-Science-Intern-Challenge/blob/main/Shopify_winter_Intern_Challenge_notebook.ipynb\" target=\"_parent\"><img src=\"https://colab.research.google.com/assets/colab-badge.svg\" alt=\"Open In Colab\"/></a>"
      ]
    },
    {
      "cell_type": "markdown",
      "metadata": {
        "id": "xYiJr2m2f6yU"
      },
      "source": [
        "# Shopify Winter Intern Challenge 2022"
      ]
    },
    {
      "cell_type": "markdown",
      "metadata": {
        "id": "V19BN2dYhvqk"
      },
      "source": [
        "\n",
        "Question 1: Given some sample data, write a program to answer the following: click here to access the required data set\n",
        "\n",
        "On Shopify, we have exactly 100 sneaker shops, and each of these shops sells only one model of shoe. We want to do some analysis of the average order value (AOV). When we look at orders data over a 30 day window, we naively calculate an AOV of $3145.13. Given that we know these shops are selling sneakers, a relatively affordable item, something seems wrong with our analysis. \n",
        "\n",
        "Think about what could be going wrong with our calculation. Think about a better way to evaluate this data. \n",
        "What metric would you report for this dataset?\n",
        "What is its value?\n"
      ]
    },
    {
      "cell_type": "markdown",
      "metadata": {
        "id": "QKnFxvbbhuHd"
      },
      "source": [
        "## Question 1:\n",
        "## a) Think about what could be going wrong with our calculation. Think about a better way to evaluate this data"
      ]
    },
    {
      "cell_type": "markdown",
      "metadata": {
        "id": "E7sV9k1uf2EI"
      },
      "source": [
        "Importing libraries"
      ]
    },
    {
      "cell_type": "code",
      "metadata": {
        "id": "6HH5mlkHGmBM"
      },
      "source": [
        "import pandas as pd\n",
        "import numpy as np\n",
        "import matplotlib.pyplot as plt\n",
        "import seaborn as sns"
      ],
      "execution_count": 1,
      "outputs": []
    },
    {
      "cell_type": "code",
      "metadata": {
        "id": "OJIey0MgHJHG"
      },
      "source": [
        "df = pd.read_csv('/content/2019 Winter Data Science Intern Challenge Data Set - Sheet1.csv')"
      ],
      "execution_count": 2,
      "outputs": []
    },
    {
      "cell_type": "code",
      "metadata": {
        "colab": {
          "base_uri": "https://localhost:8080/",
          "height": 202
        },
        "id": "Jl_EucaJHrjd",
        "outputId": "4c53a698-c318-4f4a-d601-7d3234ff4d41"
      },
      "source": [
        "df.head()"
      ],
      "execution_count": 3,
      "outputs": [
        {
          "output_type": "execute_result",
          "data": {
            "text/html": [
              "<div>\n",
              "<style scoped>\n",
              "    .dataframe tbody tr th:only-of-type {\n",
              "        vertical-align: middle;\n",
              "    }\n",
              "\n",
              "    .dataframe tbody tr th {\n",
              "        vertical-align: top;\n",
              "    }\n",
              "\n",
              "    .dataframe thead th {\n",
              "        text-align: right;\n",
              "    }\n",
              "</style>\n",
              "<table border=\"1\" class=\"dataframe\">\n",
              "  <thead>\n",
              "    <tr style=\"text-align: right;\">\n",
              "      <th></th>\n",
              "      <th>order_id</th>\n",
              "      <th>shop_id</th>\n",
              "      <th>user_id</th>\n",
              "      <th>order_amount</th>\n",
              "      <th>total_items</th>\n",
              "      <th>payment_method</th>\n",
              "      <th>created_at</th>\n",
              "    </tr>\n",
              "  </thead>\n",
              "  <tbody>\n",
              "    <tr>\n",
              "      <th>0</th>\n",
              "      <td>1</td>\n",
              "      <td>53</td>\n",
              "      <td>746</td>\n",
              "      <td>224</td>\n",
              "      <td>2</td>\n",
              "      <td>cash</td>\n",
              "      <td>2017-03-13 12:36:56</td>\n",
              "    </tr>\n",
              "    <tr>\n",
              "      <th>1</th>\n",
              "      <td>2</td>\n",
              "      <td>92</td>\n",
              "      <td>925</td>\n",
              "      <td>90</td>\n",
              "      <td>1</td>\n",
              "      <td>cash</td>\n",
              "      <td>2017-03-03 17:38:52</td>\n",
              "    </tr>\n",
              "    <tr>\n",
              "      <th>2</th>\n",
              "      <td>3</td>\n",
              "      <td>44</td>\n",
              "      <td>861</td>\n",
              "      <td>144</td>\n",
              "      <td>1</td>\n",
              "      <td>cash</td>\n",
              "      <td>2017-03-14 4:23:56</td>\n",
              "    </tr>\n",
              "    <tr>\n",
              "      <th>3</th>\n",
              "      <td>4</td>\n",
              "      <td>18</td>\n",
              "      <td>935</td>\n",
              "      <td>156</td>\n",
              "      <td>1</td>\n",
              "      <td>credit_card</td>\n",
              "      <td>2017-03-26 12:43:37</td>\n",
              "    </tr>\n",
              "    <tr>\n",
              "      <th>4</th>\n",
              "      <td>5</td>\n",
              "      <td>18</td>\n",
              "      <td>883</td>\n",
              "      <td>156</td>\n",
              "      <td>1</td>\n",
              "      <td>credit_card</td>\n",
              "      <td>2017-03-01 4:35:11</td>\n",
              "    </tr>\n",
              "  </tbody>\n",
              "</table>\n",
              "</div>"
            ],
            "text/plain": [
              "   order_id  shop_id  user_id  ...  total_items  payment_method           created_at\n",
              "0         1       53      746  ...            2            cash  2017-03-13 12:36:56\n",
              "1         2       92      925  ...            1            cash  2017-03-03 17:38:52\n",
              "2         3       44      861  ...            1            cash   2017-03-14 4:23:56\n",
              "3         4       18      935  ...            1     credit_card  2017-03-26 12:43:37\n",
              "4         5       18      883  ...            1     credit_card   2017-03-01 4:35:11\n",
              "\n",
              "[5 rows x 7 columns]"
            ]
          },
          "metadata": {},
          "execution_count": 3
        }
      ]
    },
    {
      "cell_type": "code",
      "metadata": {
        "colab": {
          "base_uri": "https://localhost:8080/"
        },
        "id": "5wvPKNR8Ht9M",
        "outputId": "996746a8-92eb-45c8-9865-0230bee49dda"
      },
      "source": [
        "df.shape"
      ],
      "execution_count": 4,
      "outputs": [
        {
          "output_type": "execute_result",
          "data": {
            "text/plain": [
              "(5000, 7)"
            ]
          },
          "metadata": {},
          "execution_count": 4
        }
      ]
    },
    {
      "cell_type": "markdown",
      "metadata": {
        "id": "QUx9JopYIKKc"
      },
      "source": [
        "Checking for duplicated Values"
      ]
    },
    {
      "cell_type": "code",
      "metadata": {
        "colab": {
          "base_uri": "https://localhost:8080/"
        },
        "id": "eB032KhNIDSn",
        "outputId": "68937633-cfc7-419a-9305-9e085db36b42"
      },
      "source": [
        "df.duplicated().sum()"
      ],
      "execution_count": 5,
      "outputs": [
        {
          "output_type": "execute_result",
          "data": {
            "text/plain": [
              "0"
            ]
          },
          "metadata": {},
          "execution_count": 5
        }
      ]
    },
    {
      "cell_type": "markdown",
      "metadata": {
        "id": "BrdACbh_HyaN"
      },
      "source": [
        "Checking for missing Values"
      ]
    },
    {
      "cell_type": "code",
      "metadata": {
        "colab": {
          "base_uri": "https://localhost:8080/"
        },
        "id": "5k76vflUIGMM",
        "outputId": "9361e36b-f76e-4d95-d5d4-1637f8cdc0e1"
      },
      "source": [
        "df.isnull().sum()"
      ],
      "execution_count": 6,
      "outputs": [
        {
          "output_type": "execute_result",
          "data": {
            "text/plain": [
              "order_id          0\n",
              "shop_id           0\n",
              "user_id           0\n",
              "order_amount      0\n",
              "total_items       0\n",
              "payment_method    0\n",
              "created_at        0\n",
              "dtype: int64"
            ]
          },
          "metadata": {},
          "execution_count": 6
        }
      ]
    },
    {
      "cell_type": "markdown",
      "metadata": {
        "id": "Ct9sU2vrIOim"
      },
      "source": [
        "There is no missing values in the dataset\n"
      ]
    },
    {
      "cell_type": "markdown",
      "metadata": {
        "id": "biak7K1VJgRh"
      },
      "source": [
        "1. a) Think about what could be going wrong with our calculation. Think about a better way to evaluate this data. "
      ]
    },
    {
      "cell_type": "code",
      "metadata": {
        "id": "h0g96qg2IjbL"
      },
      "source": [
        "shop = df.shop_id.unique()"
      ],
      "execution_count": 7,
      "outputs": []
    },
    {
      "cell_type": "code",
      "metadata": {
        "colab": {
          "base_uri": "https://localhost:8080/"
        },
        "id": "492PuTUvJj7y",
        "outputId": "0525876d-3957-440d-ca05-dab38cf0d12a"
      },
      "source": [
        "len(shop)"
      ],
      "execution_count": 8,
      "outputs": [
        {
          "output_type": "execute_result",
          "data": {
            "text/plain": [
              "100"
            ]
          },
          "metadata": {},
          "execution_count": 8
        }
      ]
    },
    {
      "cell_type": "markdown",
      "metadata": {
        "id": "yEO7rzjPJxJU"
      },
      "source": [
        "100 unique shops are present in the data"
      ]
    },
    {
      "cell_type": "markdown",
      "metadata": {
        "id": "kQbBCHA5KATE"
      },
      "source": [
        "Analysing order column"
      ]
    },
    {
      "cell_type": "code",
      "metadata": {
        "colab": {
          "base_uri": "https://localhost:8080/"
        },
        "id": "yYjMfZVhJ__g",
        "outputId": "b6230d56-bde4-42c8-df55-8bac2db8ba52"
      },
      "source": [
        "df.order_amount.mean()"
      ],
      "execution_count": 9,
      "outputs": [
        {
          "output_type": "execute_result",
          "data": {
            "text/plain": [
              "3145.128"
            ]
          },
          "metadata": {},
          "execution_count": 9
        }
      ]
    },
    {
      "cell_type": "markdown",
      "metadata": {
        "id": "wPPsjojBKUAk"
      },
      "source": [
        "AOV is calcaluted by just taking mean of the order_amount on that month."
      ]
    },
    {
      "cell_type": "code",
      "metadata": {
        "colab": {
          "base_uri": "https://localhost:8080/"
        },
        "id": "_sYy2IhuKgql",
        "outputId": "e54f7bd7-e3a9-4b25-afec-023ff4408d08"
      },
      "source": [
        "df.order_amount.min()"
      ],
      "execution_count": 10,
      "outputs": [
        {
          "output_type": "execute_result",
          "data": {
            "text/plain": [
              "90"
            ]
          },
          "metadata": {},
          "execution_count": 10
        }
      ]
    },
    {
      "cell_type": "code",
      "metadata": {
        "colab": {
          "base_uri": "https://localhost:8080/"
        },
        "id": "ZkOKOxvfKjkO",
        "outputId": "84c0fa29-189a-401c-87ce-4e0778fa0bc8"
      },
      "source": [
        "df.order_amount.max()"
      ],
      "execution_count": 11,
      "outputs": [
        {
          "output_type": "execute_result",
          "data": {
            "text/plain": [
              "704000"
            ]
          },
          "metadata": {},
          "execution_count": 11
        }
      ]
    },
    {
      "cell_type": "code",
      "metadata": {
        "colab": {
          "base_uri": "https://localhost:8080/"
        },
        "id": "BQeYc13mKmru",
        "outputId": "4b229b4a-6738-4169-9967-9c143b596753"
      },
      "source": [
        "df.order_amount.describe()"
      ],
      "execution_count": 12,
      "outputs": [
        {
          "output_type": "execute_result",
          "data": {
            "text/plain": [
              "count      5000.000000\n",
              "mean       3145.128000\n",
              "std       41282.539349\n",
              "min          90.000000\n",
              "25%         163.000000\n",
              "50%         284.000000\n",
              "75%         390.000000\n",
              "max      704000.000000\n",
              "Name: order_amount, dtype: float64"
            ]
          },
          "metadata": {},
          "execution_count": 12
        }
      ]
    },
    {
      "cell_type": "markdown",
      "metadata": {
        "id": "QYWXHMksKxDy"
      },
      "source": [
        "From this, we can infer some details\n",
        "\n",
        "* 50% of the orders are below $284\n",
        "\n",
        "* 75% of the orders are below $390\n",
        "\n",
        "* Maximum order amount is $704000\n",
        "\n",
        "* Standard deviation refers to the dispersion of data.\n",
        "Here, the std devation is very high (i.e) $41282 when compared with the mean. So the data is scattered. \n",
        "\n",
        "Based on this details, we can say that it has some outliers. We have to detect them and handle those outliers."
      ]
    },
    {
      "cell_type": "code",
      "metadata": {
        "colab": {
          "base_uri": "https://localhost:8080/",
          "height": 458
        },
        "id": "6H2T__QaLaqK",
        "outputId": "01b9df29-d852-4efc-86a4-ae0a620e30fd"
      },
      "source": [
        "sns.jointplot(x ='created_at', y ='order_amount', data = df)"
      ],
      "execution_count": 13,
      "outputs": [
        {
          "output_type": "execute_result",
          "data": {
            "text/plain": [
              "<seaborn.axisgrid.JointGrid at 0x7fc1fc9cf390>"
            ]
          },
          "metadata": {},
          "execution_count": 13
        },
        {
          "output_type": "display_data",
          "data": {
            "image/png": "[encoded data removed]",
            "text/plain": [
              "<Figure size 432x432 with 3 Axes>"
            ]
          },
          "metadata": {
            "needs_background": "light"
          }
        }
      ]
    },
    {
      "cell_type": "markdown",
      "metadata": {
        "id": "-zJtX7wuVfzf"
      },
      "source": [
        "From this plot, we are evident that this contains some outliers."
      ]
    },
    {
      "cell_type": "markdown",
      "metadata": {
        "id": "EtVjGeX_dDX5"
      },
      "source": [
        "Let us verify the ordered total items"
      ]
    },
    {
      "cell_type": "code",
      "metadata": {
        "colab": {
          "base_uri": "https://localhost:8080/"
        },
        "id": "E6CmywIOVfjt",
        "outputId": "20623a01-5fec-4041-d646-1853e2cd9aee"
      },
      "source": [
        "df.total_items.describe()"
      ],
      "execution_count": 14,
      "outputs": [
        {
          "output_type": "execute_result",
          "data": {
            "text/plain": [
              "count    5000.00000\n",
              "mean        8.78720\n",
              "std       116.32032\n",
              "min         1.00000\n",
              "25%         1.00000\n",
              "50%         2.00000\n",
              "75%         3.00000\n",
              "max      2000.00000\n",
              "Name: total_items, dtype: float64"
            ]
          },
          "metadata": {},
          "execution_count": 14
        }
      ]
    },
    {
      "cell_type": "code",
      "metadata": {
        "colab": {
          "base_uri": "https://localhost:8080/"
        },
        "id": "n5QFEX38gb-g",
        "outputId": "0998c4d5-1078-44cd-8be1-a987e84aa47e"
      },
      "source": [
        "df.total_items.unique()"
      ],
      "execution_count": 15,
      "outputs": [
        {
          "output_type": "execute_result",
          "data": {
            "text/plain": [
              "array([   2,    1,    3, 2000,    4,    5,    6,    8])"
            ]
          },
          "metadata": {},
          "execution_count": 15
        }
      ]
    },
    {
      "cell_type": "code",
      "metadata": {
        "id": "0aZsVamJfATS"
      },
      "source": [
        "# selecting rows that have more than 8 items per order\n",
        "rslt_df = df[df['total_items'] > 8] "
      ],
      "execution_count": 16,
      "outputs": []
    },
    {
      "cell_type": "code",
      "metadata": {
        "colab": {
          "base_uri": "https://localhost:8080/",
          "height": 570
        },
        "id": "xS3-Z2DhfMLM",
        "outputId": "c5a82375-39b2-4795-c07c-10b64263ac64"
      },
      "source": [
        "rslt_df"
      ],
      "execution_count": 17,
      "outputs": [
        {
          "output_type": "execute_result",
          "data": {
            "text/html": [
              "<div>\n",
              "<style scoped>\n",
              "    .dataframe tbody tr th:only-of-type {\n",
              "        vertical-align: middle;\n",
              "    }\n",
              "\n",
              "    .dataframe tbody tr th {\n",
              "        vertical-align: top;\n",
              "    }\n",
              "\n",
              "    .dataframe thead th {\n",
              "        text-align: right;\n",
              "    }\n",
              "</style>\n",
              "<table border=\"1\" class=\"dataframe\">\n",
              "  <thead>\n",
              "    <tr style=\"text-align: right;\">\n",
              "      <th></th>\n",
              "      <th>order_id</th>\n",
              "      <th>shop_id</th>\n",
              "      <th>user_id</th>\n",
              "      <th>order_amount</th>\n",
              "      <th>total_items</th>\n",
              "      <th>payment_method</th>\n",
              "      <th>created_at</th>\n",
              "    </tr>\n",
              "  </thead>\n",
              "  <tbody>\n",
              "    <tr>\n",
              "      <th>15</th>\n",
              "      <td>16</td>\n",
              "      <td>42</td>\n",
              "      <td>607</td>\n",
              "      <td>704000</td>\n",
              "      <td>2000</td>\n",
              "      <td>credit_card</td>\n",
              "      <td>2017-03-07 4:00:00</td>\n",
              "    </tr>\n",
              "    <tr>\n",
              "      <th>60</th>\n",
              "      <td>61</td>\n",
              "      <td>42</td>\n",
              "      <td>607</td>\n",
              "      <td>704000</td>\n",
              "      <td>2000</td>\n",
              "      <td>credit_card</td>\n",
              "      <td>2017-03-04 4:00:00</td>\n",
              "    </tr>\n",
              "    <tr>\n",
              "      <th>520</th>\n",
              "      <td>521</td>\n",
              "      <td>42</td>\n",
              "      <td>607</td>\n",
              "      <td>704000</td>\n",
              "      <td>2000</td>\n",
              "      <td>credit_card</td>\n",
              "      <td>2017-03-02 4:00:00</td>\n",
              "    </tr>\n",
              "    <tr>\n",
              "      <th>1104</th>\n",
              "      <td>1105</td>\n",
              "      <td>42</td>\n",
              "      <td>607</td>\n",
              "      <td>704000</td>\n",
              "      <td>2000</td>\n",
              "      <td>credit_card</td>\n",
              "      <td>2017-03-24 4:00:00</td>\n",
              "    </tr>\n",
              "    <tr>\n",
              "      <th>1362</th>\n",
              "      <td>1363</td>\n",
              "      <td>42</td>\n",
              "      <td>607</td>\n",
              "      <td>704000</td>\n",
              "      <td>2000</td>\n",
              "      <td>credit_card</td>\n",
              "      <td>2017-03-15 4:00:00</td>\n",
              "    </tr>\n",
              "    <tr>\n",
              "      <th>1436</th>\n",
              "      <td>1437</td>\n",
              "      <td>42</td>\n",
              "      <td>607</td>\n",
              "      <td>704000</td>\n",
              "      <td>2000</td>\n",
              "      <td>credit_card</td>\n",
              "      <td>2017-03-11 4:00:00</td>\n",
              "    </tr>\n",
              "    <tr>\n",
              "      <th>1562</th>\n",
              "      <td>1563</td>\n",
              "      <td>42</td>\n",
              "      <td>607</td>\n",
              "      <td>704000</td>\n",
              "      <td>2000</td>\n",
              "      <td>credit_card</td>\n",
              "      <td>2017-03-19 4:00:00</td>\n",
              "    </tr>\n",
              "    <tr>\n",
              "      <th>1602</th>\n",
              "      <td>1603</td>\n",
              "      <td>42</td>\n",
              "      <td>607</td>\n",
              "      <td>704000</td>\n",
              "      <td>2000</td>\n",
              "      <td>credit_card</td>\n",
              "      <td>2017-03-17 4:00:00</td>\n",
              "    </tr>\n",
              "    <tr>\n",
              "      <th>2153</th>\n",
              "      <td>2154</td>\n",
              "      <td>42</td>\n",
              "      <td>607</td>\n",
              "      <td>704000</td>\n",
              "      <td>2000</td>\n",
              "      <td>credit_card</td>\n",
              "      <td>2017-03-12 4:00:00</td>\n",
              "    </tr>\n",
              "    <tr>\n",
              "      <th>2297</th>\n",
              "      <td>2298</td>\n",
              "      <td>42</td>\n",
              "      <td>607</td>\n",
              "      <td>704000</td>\n",
              "      <td>2000</td>\n",
              "      <td>credit_card</td>\n",
              "      <td>2017-03-07 4:00:00</td>\n",
              "    </tr>\n",
              "    <tr>\n",
              "      <th>2835</th>\n",
              "      <td>2836</td>\n",
              "      <td>42</td>\n",
              "      <td>607</td>\n",
              "      <td>704000</td>\n",
              "      <td>2000</td>\n",
              "      <td>credit_card</td>\n",
              "      <td>2017-03-28 4:00:00</td>\n",
              "    </tr>\n",
              "    <tr>\n",
              "      <th>2969</th>\n",
              "      <td>2970</td>\n",
              "      <td>42</td>\n",
              "      <td>607</td>\n",
              "      <td>704000</td>\n",
              "      <td>2000</td>\n",
              "      <td>credit_card</td>\n",
              "      <td>2017-03-28 4:00:00</td>\n",
              "    </tr>\n",
              "    <tr>\n",
              "      <th>3332</th>\n",
              "      <td>3333</td>\n",
              "      <td>42</td>\n",
              "      <td>607</td>\n",
              "      <td>704000</td>\n",
              "      <td>2000</td>\n",
              "      <td>credit_card</td>\n",
              "      <td>2017-03-24 4:00:00</td>\n",
              "    </tr>\n",
              "    <tr>\n",
              "      <th>4056</th>\n",
              "      <td>4057</td>\n",
              "      <td>42</td>\n",
              "      <td>607</td>\n",
              "      <td>704000</td>\n",
              "      <td>2000</td>\n",
              "      <td>credit_card</td>\n",
              "      <td>2017-03-28 4:00:00</td>\n",
              "    </tr>\n",
              "    <tr>\n",
              "      <th>4646</th>\n",
              "      <td>4647</td>\n",
              "      <td>42</td>\n",
              "      <td>607</td>\n",
              "      <td>704000</td>\n",
              "      <td>2000</td>\n",
              "      <td>credit_card</td>\n",
              "      <td>2017-03-02 4:00:00</td>\n",
              "    </tr>\n",
              "    <tr>\n",
              "      <th>4868</th>\n",
              "      <td>4869</td>\n",
              "      <td>42</td>\n",
              "      <td>607</td>\n",
              "      <td>704000</td>\n",
              "      <td>2000</td>\n",
              "      <td>credit_card</td>\n",
              "      <td>2017-03-22 4:00:00</td>\n",
              "    </tr>\n",
              "    <tr>\n",
              "      <th>4882</th>\n",
              "      <td>4883</td>\n",
              "      <td>42</td>\n",
              "      <td>607</td>\n",
              "      <td>704000</td>\n",
              "      <td>2000</td>\n",
              "      <td>credit_card</td>\n",
              "      <td>2017-03-25 4:00:00</td>\n",
              "    </tr>\n",
              "  </tbody>\n",
              "</table>\n",
              "</div>"
            ],
            "text/plain": [
              "      order_id  shop_id  ...  payment_method          created_at\n",
              "15          16       42  ...     credit_card  2017-03-07 4:00:00\n",
              "60          61       42  ...     credit_card  2017-03-04 4:00:00\n",
              "520        521       42  ...     credit_card  2017-03-02 4:00:00\n",
              "1104      1105       42  ...     credit_card  2017-03-24 4:00:00\n",
              "1362      1363       42  ...     credit_card  2017-03-15 4:00:00\n",
              "1436      1437       42  ...     credit_card  2017-03-11 4:00:00\n",
              "1562      1563       42  ...     credit_card  2017-03-19 4:00:00\n",
              "1602      1603       42  ...     credit_card  2017-03-17 4:00:00\n",
              "2153      2154       42  ...     credit_card  2017-03-12 4:00:00\n",
              "2297      2298       42  ...     credit_card  2017-03-07 4:00:00\n",
              "2835      2836       42  ...     credit_card  2017-03-28 4:00:00\n",
              "2969      2970       42  ...     credit_card  2017-03-28 4:00:00\n",
              "3332      3333       42  ...     credit_card  2017-03-24 4:00:00\n",
              "4056      4057       42  ...     credit_card  2017-03-28 4:00:00\n",
              "4646      4647       42  ...     credit_card  2017-03-02 4:00:00\n",
              "4868      4869       42  ...     credit_card  2017-03-22 4:00:00\n",
              "4882      4883       42  ...     credit_card  2017-03-25 4:00:00\n",
              "\n",
              "[17 rows x 7 columns]"
            ]
          },
          "metadata": {},
          "execution_count": 17
        }
      ]
    },
    {
      "cell_type": "markdown",
      "metadata": {
        "id": "rJjPr9Iqdk1f"
      },
      "source": [
        "Now we can see that number of order items are not same for every order. There is a imbalance in the order items. Some records have bulk orders. \n",
        "\n",
        "So calculating AOV by also considering the bulk orders will not give correct results. "
      ]
    },
    {
      "cell_type": "code",
      "metadata": {
        "id": "g_-uJqQ-daTl"
      },
      "source": [
        ""
      ],
      "execution_count": 17,
      "outputs": []
    },
    {
      "cell_type": "markdown",
      "metadata": {
        "id": "VFCEl9AYhs1m"
      },
      "source": [
        "Let us also check the order_amount for any fishy records."
      ]
    },
    {
      "cell_type": "code",
      "metadata": {
        "colab": {
          "base_uri": "https://localhost:8080/"
        },
        "id": "SKn9BmV0iaDB",
        "outputId": "0345d7b6-5b6c-48d6-af92-ccdf84dd012d"
      },
      "source": [
        "df.order_amount.unique()"
      ],
      "execution_count": 18,
      "outputs": [
        {
          "output_type": "execute_result",
          "data": {
            "text/plain": [
              "array([   224,     90,    144,    156,    138,    149,    292,    266,\n",
              "          146,    322,    111,    447, 704000,    176,    164,    258,\n",
              "          408,    486,    704,    256,    495,    177,    145,    112,\n",
              "          178,    310,    294,    465,    244,    316,    459,    148,\n",
              "          352,    624,    284,    195,    652,    346,    438,    296,\n",
              "          399,    276,    531,    692,    181,    561,    560,    187,\n",
              "          260,    160,    480,    390,    184,    122,    130,    116,\n",
              "          142,    127,    354,    132,    254,    584,    328,    234,\n",
              "          118,    513,    193,    180,    780,    612,    532,    320,\n",
              "          201,    414,    129,    136,    165,    262,    590,    374,\n",
              "          153,    492,    280,    188,    312,    544,    765,    426,\n",
              "          441,    290,    640,    222,    435,    173,    306,    330,\n",
              "        25725,    228,    272,    489,    464,    468,    351,    147,\n",
              "          342,    387,    648,    488,    362,    516,    326,    338,\n",
              "          117,    163,    393,    268,    588,    236,    202,    133,\n",
              "          336,    585,    570,    114,    360,    512,    324,    402,\n",
              "          171,    128,    534,    386,    190,    131,    420,    282,\n",
              "          368,    232,    432,    656,    161,    158,    519,    381,\n",
              "          632,    166,    543,    356,    332,    508,    134,    392,\n",
              "          568,    298,    154,    172,    169,    504,  51450,    308,\n",
              "          712,    520,    670,    830,    396,    660,    579,    483,\n",
              "          444,    644,    462,    710,    536,    456,    380,    748,\n",
              "           94,    303, 154350,    348,    168,    772,    804,    507,\n",
              "          333,    815,    645,    344,    376,    576,    528,    196,\n",
              "          470,    498,    384,    672,    885,    552,   1056,    592,\n",
              "          474,    676,    580,    450,    784,    140,    730,    101,\n",
              "          162,    708,    288,    155,    935,  77175,    524,   1760,\n",
              "         1408,    264,    616,    736,    448,    960,    800,    596,\n",
              "          366,    270,    404,    865,    745,    664,    880,    920,\n",
              "          774,    790,    603,    948,    724,    845,    760, 102900,\n",
              "          965,    665,    805,    890,    980,    786,    655,    472,\n",
              "         1086,    684,    816,    810,    740,    620,   1064,    735,\n",
              "          725,    650])"
            ]
          },
          "metadata": {},
          "execution_count": 18
        }
      ]
    },
    {
      "cell_type": "code",
      "metadata": {
        "id": "EnVIqefIijhD"
      },
      "source": [
        "#Records having order_amount more than $2000\n",
        "amount_df = df[df['order_amount'] > 2000] "
      ],
      "execution_count": 19,
      "outputs": []
    },
    {
      "cell_type": "code",
      "metadata": {
        "colab": {
          "base_uri": "https://localhost:8080/",
          "height": 414
        },
        "id": "C9UaTBOXizbo",
        "outputId": "b7cd43e8-7a63-4e16-af3b-2021ec63d04a"
      },
      "source": [
        "amount_df"
      ],
      "execution_count": 20,
      "outputs": [
        {
          "output_type": "execute_result",
          "data": {
            "text/html": [
              "<div>\n",
              "<style scoped>\n",
              "    .dataframe tbody tr th:only-of-type {\n",
              "        vertical-align: middle;\n",
              "    }\n",
              "\n",
              "    .dataframe tbody tr th {\n",
              "        vertical-align: top;\n",
              "    }\n",
              "\n",
              "    .dataframe thead th {\n",
              "        text-align: right;\n",
              "    }\n",
              "</style>\n",
              "<table border=\"1\" class=\"dataframe\">\n",
              "  <thead>\n",
              "    <tr style=\"text-align: right;\">\n",
              "      <th></th>\n",
              "      <th>order_id</th>\n",
              "      <th>shop_id</th>\n",
              "      <th>user_id</th>\n",
              "      <th>order_amount</th>\n",
              "      <th>total_items</th>\n",
              "      <th>payment_method</th>\n",
              "      <th>created_at</th>\n",
              "    </tr>\n",
              "  </thead>\n",
              "  <tbody>\n",
              "    <tr>\n",
              "      <th>15</th>\n",
              "      <td>16</td>\n",
              "      <td>42</td>\n",
              "      <td>607</td>\n",
              "      <td>704000</td>\n",
              "      <td>2000</td>\n",
              "      <td>credit_card</td>\n",
              "      <td>2017-03-07 4:00:00</td>\n",
              "    </tr>\n",
              "    <tr>\n",
              "      <th>60</th>\n",
              "      <td>61</td>\n",
              "      <td>42</td>\n",
              "      <td>607</td>\n",
              "      <td>704000</td>\n",
              "      <td>2000</td>\n",
              "      <td>credit_card</td>\n",
              "      <td>2017-03-04 4:00:00</td>\n",
              "    </tr>\n",
              "    <tr>\n",
              "      <th>160</th>\n",
              "      <td>161</td>\n",
              "      <td>78</td>\n",
              "      <td>990</td>\n",
              "      <td>25725</td>\n",
              "      <td>1</td>\n",
              "      <td>credit_card</td>\n",
              "      <td>2017-03-12 5:56:57</td>\n",
              "    </tr>\n",
              "    <tr>\n",
              "      <th>490</th>\n",
              "      <td>491</td>\n",
              "      <td>78</td>\n",
              "      <td>936</td>\n",
              "      <td>51450</td>\n",
              "      <td>2</td>\n",
              "      <td>debit</td>\n",
              "      <td>2017-03-26 17:08:19</td>\n",
              "    </tr>\n",
              "    <tr>\n",
              "      <th>493</th>\n",
              "      <td>494</td>\n",
              "      <td>78</td>\n",
              "      <td>983</td>\n",
              "      <td>51450</td>\n",
              "      <td>2</td>\n",
              "      <td>cash</td>\n",
              "      <td>2017-03-16 21:39:35</td>\n",
              "    </tr>\n",
              "    <tr>\n",
              "      <th>...</th>\n",
              "      <td>...</td>\n",
              "      <td>...</td>\n",
              "      <td>...</td>\n",
              "      <td>...</td>\n",
              "      <td>...</td>\n",
              "      <td>...</td>\n",
              "      <td>...</td>\n",
              "    </tr>\n",
              "    <tr>\n",
              "      <th>4646</th>\n",
              "      <td>4647</td>\n",
              "      <td>42</td>\n",
              "      <td>607</td>\n",
              "      <td>704000</td>\n",
              "      <td>2000</td>\n",
              "      <td>credit_card</td>\n",
              "      <td>2017-03-02 4:00:00</td>\n",
              "    </tr>\n",
              "    <tr>\n",
              "      <th>4715</th>\n",
              "      <td>4716</td>\n",
              "      <td>78</td>\n",
              "      <td>818</td>\n",
              "      <td>77175</td>\n",
              "      <td>3</td>\n",
              "      <td>debit</td>\n",
              "      <td>2017-03-05 5:10:44</td>\n",
              "    </tr>\n",
              "    <tr>\n",
              "      <th>4868</th>\n",
              "      <td>4869</td>\n",
              "      <td>42</td>\n",
              "      <td>607</td>\n",
              "      <td>704000</td>\n",
              "      <td>2000</td>\n",
              "      <td>credit_card</td>\n",
              "      <td>2017-03-22 4:00:00</td>\n",
              "    </tr>\n",
              "    <tr>\n",
              "      <th>4882</th>\n",
              "      <td>4883</td>\n",
              "      <td>42</td>\n",
              "      <td>607</td>\n",
              "      <td>704000</td>\n",
              "      <td>2000</td>\n",
              "      <td>credit_card</td>\n",
              "      <td>2017-03-25 4:00:00</td>\n",
              "    </tr>\n",
              "    <tr>\n",
              "      <th>4918</th>\n",
              "      <td>4919</td>\n",
              "      <td>78</td>\n",
              "      <td>823</td>\n",
              "      <td>25725</td>\n",
              "      <td>1</td>\n",
              "      <td>cash</td>\n",
              "      <td>2017-03-15 13:26:46</td>\n",
              "    </tr>\n",
              "  </tbody>\n",
              "</table>\n",
              "<p>63 rows × 7 columns</p>\n",
              "</div>"
            ],
            "text/plain": [
              "      order_id  shop_id  ...  payment_method           created_at\n",
              "15          16       42  ...     credit_card   2017-03-07 4:00:00\n",
              "60          61       42  ...     credit_card   2017-03-04 4:00:00\n",
              "160        161       78  ...     credit_card   2017-03-12 5:56:57\n",
              "490        491       78  ...           debit  2017-03-26 17:08:19\n",
              "493        494       78  ...            cash  2017-03-16 21:39:35\n",
              "...        ...      ...  ...             ...                  ...\n",
              "4646      4647       42  ...     credit_card   2017-03-02 4:00:00\n",
              "4715      4716       78  ...           debit   2017-03-05 5:10:44\n",
              "4868      4869       42  ...     credit_card   2017-03-22 4:00:00\n",
              "4882      4883       42  ...     credit_card   2017-03-25 4:00:00\n",
              "4918      4919       78  ...            cash  2017-03-15 13:26:46\n",
              "\n",
              "[63 rows x 7 columns]"
            ]
          },
          "metadata": {},
          "execution_count": 20
        }
      ]
    },
    {
      "cell_type": "markdown",
      "metadata": {
        "id": "kldfF_-aswau"
      },
      "source": [
        "After glancing all these records, some of the sneakers are sold for nearly $25000/per item. So there may be error in the data entry. \n",
        "\n"
      ]
    },
    {
      "cell_type": "markdown",
      "metadata": {
        "id": "hg-5mNeLt4-4"
      },
      "source": [
        "* All these high prize sneakers are sold out from the same shop. (i.e) shop_id - 78\n",
        "\n",
        "* All the bulk orders are from the same shop (i.e) shop_id - 42"
      ]
    },
    {
      "cell_type": "code",
      "metadata": {
        "id": "Kh2InnPurlA7"
      },
      "source": [
        "shop_df = df[df['shop_id'] == 78] "
      ],
      "execution_count": 21,
      "outputs": []
    },
    {
      "cell_type": "code",
      "metadata": {
        "colab": {
          "base_uri": "https://localhost:8080/",
          "height": 441
        },
        "id": "Cc5LcH5yvHaN",
        "outputId": "1ca2d4d9-6155-4310-a340-9b70f5b31053"
      },
      "source": [
        "ax=sns.jointplot(x ='created_at', y ='order_amount', data = shop_df)\n"
      ],
      "execution_count": 22,
      "outputs": [
        {
          "output_type": "display_data",
          "data": {
            "image/png": "[encoded data removed]",
            "text/plain": [
              "<Figure size 432x432 with 3 Axes>"
            ]
          },
          "metadata": {
            "needs_background": "light"
          }
        }
      ]
    },
    {
      "cell_type": "markdown",
      "metadata": {
        "id": "QKaJ0vOJyYuz"
      },
      "source": [
        "Shop id - 78 . record should not be considered for the AOV calculation. Because, they sold for $25725/sneaker which is a very high value compared to the other shops rate. \n",
        "So, if we consider them for AOV, then it would give misleading results."
      ]
    },
    {
      "cell_type": "code",
      "metadata": {
        "id": "5Y9difpqjVdi"
      },
      "source": [
        "shop_df_42 = df[(df['shop_id']== 42) ]\n",
        "#&  (df['total_items'] >=8)"
      ],
      "execution_count": 23,
      "outputs": []
    },
    {
      "cell_type": "code",
      "metadata": {
        "colab": {
          "base_uri": "https://localhost:8080/",
          "height": 1000
        },
        "id": "OMffwWUjjpqU",
        "outputId": "cc55cda3-8847-40d2-8b81-4bcf4508055c"
      },
      "source": [
        "shop_df_42"
      ],
      "execution_count": 24,
      "outputs": [
        {
          "output_type": "execute_result",
          "data": {
            "text/html": [
              "<div>\n",
              "<style scoped>\n",
              "    .dataframe tbody tr th:only-of-type {\n",
              "        vertical-align: middle;\n",
              "    }\n",
              "\n",
              "    .dataframe tbody tr th {\n",
              "        vertical-align: top;\n",
              "    }\n",
              "\n",
              "    .dataframe thead th {\n",
              "        text-align: right;\n",
              "    }\n",
              "</style>\n",
              "<table border=\"1\" class=\"dataframe\">\n",
              "  <thead>\n",
              "    <tr style=\"text-align: right;\">\n",
              "      <th></th>\n",
              "      <th>order_id</th>\n",
              "      <th>shop_id</th>\n",
              "      <th>user_id</th>\n",
              "      <th>order_amount</th>\n",
              "      <th>total_items</th>\n",
              "      <th>payment_method</th>\n",
              "      <th>created_at</th>\n",
              "    </tr>\n",
              "  </thead>\n",
              "  <tbody>\n",
              "    <tr>\n",
              "      <th>15</th>\n",
              "      <td>16</td>\n",
              "      <td>42</td>\n",
              "      <td>607</td>\n",
              "      <td>704000</td>\n",
              "      <td>2000</td>\n",
              "      <td>credit_card</td>\n",
              "      <td>2017-03-07 4:00:00</td>\n",
              "    </tr>\n",
              "    <tr>\n",
              "      <th>40</th>\n",
              "      <td>41</td>\n",
              "      <td>42</td>\n",
              "      <td>793</td>\n",
              "      <td>352</td>\n",
              "      <td>1</td>\n",
              "      <td>credit_card</td>\n",
              "      <td>2017-03-24 14:15:41</td>\n",
              "    </tr>\n",
              "    <tr>\n",
              "      <th>60</th>\n",
              "      <td>61</td>\n",
              "      <td>42</td>\n",
              "      <td>607</td>\n",
              "      <td>704000</td>\n",
              "      <td>2000</td>\n",
              "      <td>credit_card</td>\n",
              "      <td>2017-03-04 4:00:00</td>\n",
              "    </tr>\n",
              "    <tr>\n",
              "      <th>308</th>\n",
              "      <td>309</td>\n",
              "      <td>42</td>\n",
              "      <td>770</td>\n",
              "      <td>352</td>\n",
              "      <td>1</td>\n",
              "      <td>credit_card</td>\n",
              "      <td>2017-03-11 18:14:39</td>\n",
              "    </tr>\n",
              "    <tr>\n",
              "      <th>409</th>\n",
              "      <td>410</td>\n",
              "      <td>42</td>\n",
              "      <td>904</td>\n",
              "      <td>704</td>\n",
              "      <td>2</td>\n",
              "      <td>credit_card</td>\n",
              "      <td>2017-03-04 14:32:58</td>\n",
              "    </tr>\n",
              "    <tr>\n",
              "      <th>520</th>\n",
              "      <td>521</td>\n",
              "      <td>42</td>\n",
              "      <td>607</td>\n",
              "      <td>704000</td>\n",
              "      <td>2000</td>\n",
              "      <td>credit_card</td>\n",
              "      <td>2017-03-02 4:00:00</td>\n",
              "    </tr>\n",
              "    <tr>\n",
              "      <th>834</th>\n",
              "      <td>835</td>\n",
              "      <td>42</td>\n",
              "      <td>792</td>\n",
              "      <td>352</td>\n",
              "      <td>1</td>\n",
              "      <td>cash</td>\n",
              "      <td>2017-03-25 21:31:25</td>\n",
              "    </tr>\n",
              "    <tr>\n",
              "      <th>835</th>\n",
              "      <td>836</td>\n",
              "      <td>42</td>\n",
              "      <td>819</td>\n",
              "      <td>704</td>\n",
              "      <td>2</td>\n",
              "      <td>cash</td>\n",
              "      <td>2017-03-09 14:15:15</td>\n",
              "    </tr>\n",
              "    <tr>\n",
              "      <th>938</th>\n",
              "      <td>939</td>\n",
              "      <td>42</td>\n",
              "      <td>808</td>\n",
              "      <td>1056</td>\n",
              "      <td>3</td>\n",
              "      <td>credit_card</td>\n",
              "      <td>2017-03-13 23:43:45</td>\n",
              "    </tr>\n",
              "    <tr>\n",
              "      <th>979</th>\n",
              "      <td>980</td>\n",
              "      <td>42</td>\n",
              "      <td>744</td>\n",
              "      <td>352</td>\n",
              "      <td>1</td>\n",
              "      <td>debit</td>\n",
              "      <td>2017-03-12 13:09:04</td>\n",
              "    </tr>\n",
              "    <tr>\n",
              "      <th>1104</th>\n",
              "      <td>1105</td>\n",
              "      <td>42</td>\n",
              "      <td>607</td>\n",
              "      <td>704000</td>\n",
              "      <td>2000</td>\n",
              "      <td>credit_card</td>\n",
              "      <td>2017-03-24 4:00:00</td>\n",
              "    </tr>\n",
              "    <tr>\n",
              "      <th>1362</th>\n",
              "      <td>1363</td>\n",
              "      <td>42</td>\n",
              "      <td>607</td>\n",
              "      <td>704000</td>\n",
              "      <td>2000</td>\n",
              "      <td>credit_card</td>\n",
              "      <td>2017-03-15 4:00:00</td>\n",
              "    </tr>\n",
              "    <tr>\n",
              "      <th>1364</th>\n",
              "      <td>1365</td>\n",
              "      <td>42</td>\n",
              "      <td>797</td>\n",
              "      <td>1760</td>\n",
              "      <td>5</td>\n",
              "      <td>cash</td>\n",
              "      <td>2017-03-10 6:28:21</td>\n",
              "    </tr>\n",
              "    <tr>\n",
              "      <th>1367</th>\n",
              "      <td>1368</td>\n",
              "      <td>42</td>\n",
              "      <td>926</td>\n",
              "      <td>1408</td>\n",
              "      <td>4</td>\n",
              "      <td>cash</td>\n",
              "      <td>2017-03-13 2:38:34</td>\n",
              "    </tr>\n",
              "    <tr>\n",
              "      <th>1436</th>\n",
              "      <td>1437</td>\n",
              "      <td>42</td>\n",
              "      <td>607</td>\n",
              "      <td>704000</td>\n",
              "      <td>2000</td>\n",
              "      <td>credit_card</td>\n",
              "      <td>2017-03-11 4:00:00</td>\n",
              "    </tr>\n",
              "    <tr>\n",
              "      <th>1471</th>\n",
              "      <td>1472</td>\n",
              "      <td>42</td>\n",
              "      <td>907</td>\n",
              "      <td>1408</td>\n",
              "      <td>4</td>\n",
              "      <td>debit</td>\n",
              "      <td>2017-03-12 23:00:22</td>\n",
              "    </tr>\n",
              "    <tr>\n",
              "      <th>1512</th>\n",
              "      <td>1513</td>\n",
              "      <td>42</td>\n",
              "      <td>946</td>\n",
              "      <td>352</td>\n",
              "      <td>1</td>\n",
              "      <td>debit</td>\n",
              "      <td>2017-03-24 13:35:04</td>\n",
              "    </tr>\n",
              "    <tr>\n",
              "      <th>1520</th>\n",
              "      <td>1521</td>\n",
              "      <td>42</td>\n",
              "      <td>756</td>\n",
              "      <td>704</td>\n",
              "      <td>2</td>\n",
              "      <td>debit</td>\n",
              "      <td>2017-03-22 13:10:31</td>\n",
              "    </tr>\n",
              "    <tr>\n",
              "      <th>1562</th>\n",
              "      <td>1563</td>\n",
              "      <td>42</td>\n",
              "      <td>607</td>\n",
              "      <td>704000</td>\n",
              "      <td>2000</td>\n",
              "      <td>credit_card</td>\n",
              "      <td>2017-03-19 4:00:00</td>\n",
              "    </tr>\n",
              "    <tr>\n",
              "      <th>1602</th>\n",
              "      <td>1603</td>\n",
              "      <td>42</td>\n",
              "      <td>607</td>\n",
              "      <td>704000</td>\n",
              "      <td>2000</td>\n",
              "      <td>credit_card</td>\n",
              "      <td>2017-03-17 4:00:00</td>\n",
              "    </tr>\n",
              "    <tr>\n",
              "      <th>1911</th>\n",
              "      <td>1912</td>\n",
              "      <td>42</td>\n",
              "      <td>739</td>\n",
              "      <td>704</td>\n",
              "      <td>2</td>\n",
              "      <td>cash</td>\n",
              "      <td>2017-03-07 5:42:52</td>\n",
              "    </tr>\n",
              "    <tr>\n",
              "      <th>1929</th>\n",
              "      <td>1930</td>\n",
              "      <td>42</td>\n",
              "      <td>770</td>\n",
              "      <td>352</td>\n",
              "      <td>1</td>\n",
              "      <td>credit_card</td>\n",
              "      <td>2017-03-17 8:11:13</td>\n",
              "    </tr>\n",
              "    <tr>\n",
              "      <th>2003</th>\n",
              "      <td>2004</td>\n",
              "      <td>42</td>\n",
              "      <td>934</td>\n",
              "      <td>704</td>\n",
              "      <td>2</td>\n",
              "      <td>cash</td>\n",
              "      <td>2017-03-26 9:21:26</td>\n",
              "    </tr>\n",
              "    <tr>\n",
              "      <th>2018</th>\n",
              "      <td>2019</td>\n",
              "      <td>42</td>\n",
              "      <td>739</td>\n",
              "      <td>352</td>\n",
              "      <td>1</td>\n",
              "      <td>debit</td>\n",
              "      <td>2017-03-01 12:42:26</td>\n",
              "    </tr>\n",
              "    <tr>\n",
              "      <th>2053</th>\n",
              "      <td>2054</td>\n",
              "      <td>42</td>\n",
              "      <td>951</td>\n",
              "      <td>352</td>\n",
              "      <td>1</td>\n",
              "      <td>debit</td>\n",
              "      <td>2017-03-19 11:49:12</td>\n",
              "    </tr>\n",
              "    <tr>\n",
              "      <th>2153</th>\n",
              "      <td>2154</td>\n",
              "      <td>42</td>\n",
              "      <td>607</td>\n",
              "      <td>704000</td>\n",
              "      <td>2000</td>\n",
              "      <td>credit_card</td>\n",
              "      <td>2017-03-12 4:00:00</td>\n",
              "    </tr>\n",
              "    <tr>\n",
              "      <th>2273</th>\n",
              "      <td>2274</td>\n",
              "      <td>42</td>\n",
              "      <td>747</td>\n",
              "      <td>704</td>\n",
              "      <td>2</td>\n",
              "      <td>debit</td>\n",
              "      <td>2017-03-27 20:48:19</td>\n",
              "    </tr>\n",
              "    <tr>\n",
              "      <th>2297</th>\n",
              "      <td>2298</td>\n",
              "      <td>42</td>\n",
              "      <td>607</td>\n",
              "      <td>704000</td>\n",
              "      <td>2000</td>\n",
              "      <td>credit_card</td>\n",
              "      <td>2017-03-07 4:00:00</td>\n",
              "    </tr>\n",
              "    <tr>\n",
              "      <th>2491</th>\n",
              "      <td>2492</td>\n",
              "      <td>42</td>\n",
              "      <td>868</td>\n",
              "      <td>704</td>\n",
              "      <td>2</td>\n",
              "      <td>debit</td>\n",
              "      <td>2017-03-01 18:33:33</td>\n",
              "    </tr>\n",
              "    <tr>\n",
              "      <th>2609</th>\n",
              "      <td>2610</td>\n",
              "      <td>42</td>\n",
              "      <td>868</td>\n",
              "      <td>704</td>\n",
              "      <td>2</td>\n",
              "      <td>debit</td>\n",
              "      <td>2017-03-23 18:10:14</td>\n",
              "    </tr>\n",
              "    <tr>\n",
              "      <th>2766</th>\n",
              "      <td>2767</td>\n",
              "      <td>42</td>\n",
              "      <td>970</td>\n",
              "      <td>704</td>\n",
              "      <td>2</td>\n",
              "      <td>credit_card</td>\n",
              "      <td>2017-03-05 10:45:42</td>\n",
              "    </tr>\n",
              "    <tr>\n",
              "      <th>2835</th>\n",
              "      <td>2836</td>\n",
              "      <td>42</td>\n",
              "      <td>607</td>\n",
              "      <td>704000</td>\n",
              "      <td>2000</td>\n",
              "      <td>credit_card</td>\n",
              "      <td>2017-03-28 4:00:00</td>\n",
              "    </tr>\n",
              "    <tr>\n",
              "      <th>2969</th>\n",
              "      <td>2970</td>\n",
              "      <td>42</td>\n",
              "      <td>607</td>\n",
              "      <td>704000</td>\n",
              "      <td>2000</td>\n",
              "      <td>credit_card</td>\n",
              "      <td>2017-03-28 4:00:00</td>\n",
              "    </tr>\n",
              "    <tr>\n",
              "      <th>2987</th>\n",
              "      <td>2988</td>\n",
              "      <td>42</td>\n",
              "      <td>819</td>\n",
              "      <td>1056</td>\n",
              "      <td>3</td>\n",
              "      <td>cash</td>\n",
              "      <td>2017-03-03 9:09:25</td>\n",
              "    </tr>\n",
              "    <tr>\n",
              "      <th>3332</th>\n",
              "      <td>3333</td>\n",
              "      <td>42</td>\n",
              "      <td>607</td>\n",
              "      <td>704000</td>\n",
              "      <td>2000</td>\n",
              "      <td>credit_card</td>\n",
              "      <td>2017-03-24 4:00:00</td>\n",
              "    </tr>\n",
              "    <tr>\n",
              "      <th>3513</th>\n",
              "      <td>3514</td>\n",
              "      <td>42</td>\n",
              "      <td>726</td>\n",
              "      <td>1056</td>\n",
              "      <td>3</td>\n",
              "      <td>debit</td>\n",
              "      <td>2017-03-24 17:51:05</td>\n",
              "    </tr>\n",
              "    <tr>\n",
              "      <th>3651</th>\n",
              "      <td>3652</td>\n",
              "      <td>42</td>\n",
              "      <td>830</td>\n",
              "      <td>352</td>\n",
              "      <td>1</td>\n",
              "      <td>credit_card</td>\n",
              "      <td>2017-03-24 22:26:58</td>\n",
              "    </tr>\n",
              "    <tr>\n",
              "      <th>3697</th>\n",
              "      <td>3698</td>\n",
              "      <td>42</td>\n",
              "      <td>839</td>\n",
              "      <td>352</td>\n",
              "      <td>1</td>\n",
              "      <td>debit</td>\n",
              "      <td>2017-03-12 2:45:09</td>\n",
              "    </tr>\n",
              "    <tr>\n",
              "      <th>3903</th>\n",
              "      <td>3904</td>\n",
              "      <td>42</td>\n",
              "      <td>975</td>\n",
              "      <td>352</td>\n",
              "      <td>1</td>\n",
              "      <td>debit</td>\n",
              "      <td>2017-03-12 1:28:31</td>\n",
              "    </tr>\n",
              "    <tr>\n",
              "      <th>3998</th>\n",
              "      <td>3999</td>\n",
              "      <td>42</td>\n",
              "      <td>886</td>\n",
              "      <td>352</td>\n",
              "      <td>1</td>\n",
              "      <td>debit</td>\n",
              "      <td>2017-03-09 20:10:41</td>\n",
              "    </tr>\n",
              "    <tr>\n",
              "      <th>4056</th>\n",
              "      <td>4057</td>\n",
              "      <td>42</td>\n",
              "      <td>607</td>\n",
              "      <td>704000</td>\n",
              "      <td>2000</td>\n",
              "      <td>credit_card</td>\n",
              "      <td>2017-03-28 4:00:00</td>\n",
              "    </tr>\n",
              "    <tr>\n",
              "      <th>4231</th>\n",
              "      <td>4232</td>\n",
              "      <td>42</td>\n",
              "      <td>962</td>\n",
              "      <td>352</td>\n",
              "      <td>1</td>\n",
              "      <td>cash</td>\n",
              "      <td>2017-03-04 0:01:19</td>\n",
              "    </tr>\n",
              "    <tr>\n",
              "      <th>4294</th>\n",
              "      <td>4295</td>\n",
              "      <td>42</td>\n",
              "      <td>859</td>\n",
              "      <td>704</td>\n",
              "      <td>2</td>\n",
              "      <td>cash</td>\n",
              "      <td>2017-03-24 20:50:40</td>\n",
              "    </tr>\n",
              "    <tr>\n",
              "      <th>4326</th>\n",
              "      <td>4327</td>\n",
              "      <td>42</td>\n",
              "      <td>788</td>\n",
              "      <td>704</td>\n",
              "      <td>2</td>\n",
              "      <td>debit</td>\n",
              "      <td>2017-03-16 23:37:57</td>\n",
              "    </tr>\n",
              "    <tr>\n",
              "      <th>4421</th>\n",
              "      <td>4422</td>\n",
              "      <td>42</td>\n",
              "      <td>736</td>\n",
              "      <td>704</td>\n",
              "      <td>2</td>\n",
              "      <td>credit_card</td>\n",
              "      <td>2017-03-01 12:19:49</td>\n",
              "    </tr>\n",
              "    <tr>\n",
              "      <th>4625</th>\n",
              "      <td>4626</td>\n",
              "      <td>42</td>\n",
              "      <td>809</td>\n",
              "      <td>352</td>\n",
              "      <td>1</td>\n",
              "      <td>credit_card</td>\n",
              "      <td>2017-03-11 8:21:26</td>\n",
              "    </tr>\n",
              "    <tr>\n",
              "      <th>4646</th>\n",
              "      <td>4647</td>\n",
              "      <td>42</td>\n",
              "      <td>607</td>\n",
              "      <td>704000</td>\n",
              "      <td>2000</td>\n",
              "      <td>credit_card</td>\n",
              "      <td>2017-03-02 4:00:00</td>\n",
              "    </tr>\n",
              "    <tr>\n",
              "      <th>4745</th>\n",
              "      <td>4746</td>\n",
              "      <td>42</td>\n",
              "      <td>872</td>\n",
              "      <td>352</td>\n",
              "      <td>1</td>\n",
              "      <td>debit</td>\n",
              "      <td>2017-03-24 0:57:24</td>\n",
              "    </tr>\n",
              "    <tr>\n",
              "      <th>4767</th>\n",
              "      <td>4768</td>\n",
              "      <td>42</td>\n",
              "      <td>720</td>\n",
              "      <td>704</td>\n",
              "      <td>2</td>\n",
              "      <td>credit_card</td>\n",
              "      <td>2017-03-14 10:26:08</td>\n",
              "    </tr>\n",
              "    <tr>\n",
              "      <th>4868</th>\n",
              "      <td>4869</td>\n",
              "      <td>42</td>\n",
              "      <td>607</td>\n",
              "      <td>704000</td>\n",
              "      <td>2000</td>\n",
              "      <td>credit_card</td>\n",
              "      <td>2017-03-22 4:00:00</td>\n",
              "    </tr>\n",
              "    <tr>\n",
              "      <th>4882</th>\n",
              "      <td>4883</td>\n",
              "      <td>42</td>\n",
              "      <td>607</td>\n",
              "      <td>704000</td>\n",
              "      <td>2000</td>\n",
              "      <td>credit_card</td>\n",
              "      <td>2017-03-25 4:00:00</td>\n",
              "    </tr>\n",
              "  </tbody>\n",
              "</table>\n",
              "</div>"
            ],
            "text/plain": [
              "      order_id  shop_id  ...  payment_method           created_at\n",
              "15          16       42  ...     credit_card   2017-03-07 4:00:00\n",
              "40          41       42  ...     credit_card  2017-03-24 14:15:41\n",
              "60          61       42  ...     credit_card   2017-03-04 4:00:00\n",
              "308        309       42  ...     credit_card  2017-03-11 18:14:39\n",
              "409        410       42  ...     credit_card  2017-03-04 14:32:58\n",
              "520        521       42  ...     credit_card   2017-03-02 4:00:00\n",
              "834        835       42  ...            cash  2017-03-25 21:31:25\n",
              "835        836       42  ...            cash  2017-03-09 14:15:15\n",
              "938        939       42  ...     credit_card  2017-03-13 23:43:45\n",
              "979        980       42  ...           debit  2017-03-12 13:09:04\n",
              "1104      1105       42  ...     credit_card   2017-03-24 4:00:00\n",
              "1362      1363       42  ...     credit_card   2017-03-15 4:00:00\n",
              "1364      1365       42  ...            cash   2017-03-10 6:28:21\n",
              "1367      1368       42  ...            cash   2017-03-13 2:38:34\n",
              "1436      1437       42  ...     credit_card   2017-03-11 4:00:00\n",
              "1471      1472       42  ...           debit  2017-03-12 23:00:22\n",
              "1512      1513       42  ...           debit  2017-03-24 13:35:04\n",
              "1520      1521       42  ...           debit  2017-03-22 13:10:31\n",
              "1562      1563       42  ...     credit_card   2017-03-19 4:00:00\n",
              "1602      1603       42  ...     credit_card   2017-03-17 4:00:00\n",
              "1911      1912       42  ...            cash   2017-03-07 5:42:52\n",
              "1929      1930       42  ...     credit_card   2017-03-17 8:11:13\n",
              "2003      2004       42  ...            cash   2017-03-26 9:21:26\n",
              "2018      2019       42  ...           debit  2017-03-01 12:42:26\n",
              "2053      2054       42  ...           debit  2017-03-19 11:49:12\n",
              "2153      2154       42  ...     credit_card   2017-03-12 4:00:00\n",
              "2273      2274       42  ...           debit  2017-03-27 20:48:19\n",
              "2297      2298       42  ...     credit_card   2017-03-07 4:00:00\n",
              "2491      2492       42  ...           debit  2017-03-01 18:33:33\n",
              "2609      2610       42  ...           debit  2017-03-23 18:10:14\n",
              "2766      2767       42  ...     credit_card  2017-03-05 10:45:42\n",
              "2835      2836       42  ...     credit_card   2017-03-28 4:00:00\n",
              "2969      2970       42  ...     credit_card   2017-03-28 4:00:00\n",
              "2987      2988       42  ...            cash   2017-03-03 9:09:25\n",
              "3332      3333       42  ...     credit_card   2017-03-24 4:00:00\n",
              "3513      3514       42  ...           debit  2017-03-24 17:51:05\n",
              "3651      3652       42  ...     credit_card  2017-03-24 22:26:58\n",
              "3697      3698       42  ...           debit   2017-03-12 2:45:09\n",
              "3903      3904       42  ...           debit   2017-03-12 1:28:31\n",
              "3998      3999       42  ...           debit  2017-03-09 20:10:41\n",
              "4056      4057       42  ...     credit_card   2017-03-28 4:00:00\n",
              "4231      4232       42  ...            cash   2017-03-04 0:01:19\n",
              "4294      4295       42  ...            cash  2017-03-24 20:50:40\n",
              "4326      4327       42  ...           debit  2017-03-16 23:37:57\n",
              "4421      4422       42  ...     credit_card  2017-03-01 12:19:49\n",
              "4625      4626       42  ...     credit_card   2017-03-11 8:21:26\n",
              "4646      4647       42  ...     credit_card   2017-03-02 4:00:00\n",
              "4745      4746       42  ...           debit   2017-03-24 0:57:24\n",
              "4767      4768       42  ...     credit_card  2017-03-14 10:26:08\n",
              "4868      4869       42  ...     credit_card   2017-03-22 4:00:00\n",
              "4882      4883       42  ...     credit_card   2017-03-25 4:00:00\n",
              "\n",
              "[51 rows x 7 columns]"
            ]
          },
          "metadata": {},
          "execution_count": 24
        }
      ]
    },
    {
      "cell_type": "code",
      "metadata": {
        "colab": {
          "base_uri": "https://localhost:8080/",
          "height": 441
        },
        "id": "qP_5q9DYjrGF",
        "outputId": "3b07186b-1f88-4a12-c49c-e1d986c6ae47"
      },
      "source": [
        "a = sns.jointplot(x='created_at',y='order_amount',data = shop_df_42)"
      ],
      "execution_count": 25,
      "outputs": [
        {
          "output_type": "display_data",
          "data": {
            "image/png": "[encoded data removed]",
            "text/plain": [
              "<Figure size 432x432 with 3 Axes>"
            ]
          },
          "metadata": {
            "needs_background": "light"
          }
        }
      ]
    },
    {
      "cell_type": "markdown",
      "metadata": {
        "id": "zBngeVY0pJgv"
      },
      "source": [
        "shopid 42's sales data shows that, they have taken orders for low cost and also bulk orders. So, we only need to omit the bulk orders and not the ordinary orders."
      ]
    },
    {
      "cell_type": "code",
      "metadata": {
        "colab": {
          "base_uri": "https://localhost:8080/",
          "height": 441
        },
        "id": "541qknzhnrLn",
        "outputId": "7bfd98d1-491a-49a9-8bfe-d28a717807e8"
      },
      "source": [
        "a = sns.jointplot(x='shop_id',y='order_amount',data = df)"
      ],
      "execution_count": 26,
      "outputs": [
        {
          "output_type": "display_data",
          "data": {
            "image/png": "[encoded data removed]",
            "text/plain": [
              "<Figure size 432x432 with 3 Axes>"
            ]
          },
          "metadata": {
            "needs_background": "light"
          }
        }
      ]
    },
    {
      "cell_type": "markdown",
      "metadata": {
        "id": "DJgVXEGlon7f"
      },
      "source": [
        "This plot shows the shopid 42 and 78 high order amount"
      ]
    },
    {
      "cell_type": "markdown",
      "metadata": {
        "id": "EUTGCCCtpsPf"
      },
      "source": [
        "## Question 1:  \n",
        "## b) What metric would you report for this dataset?\n",
        "## c) What is its value?\n",
        "\n",
        "\n"
      ]
    },
    {
      "cell_type": "markdown",
      "metadata": {
        "id": "hGnxPnkAqu0d"
      },
      "source": [
        "We can come to some solution for this problem by two methods.\n",
        "\n",
        "1) Calculating AOV for each distinct shops on that month\n",
        " \n",
        "This can be done without removing any outliers. \n",
        "  \n",
        "  Particular shops(shopid 42 & 78) which has high revenue will obviously have high AOV. Other shops will not be affected by these outlier values.\n",
        "\n",
        "\n",
        "2) Calculating Median Order Value"
      ]
    },
    {
      "cell_type": "markdown",
      "metadata": {
        "id": "Oce5vqz8hswQ"
      },
      "source": [
        "1) calculating AOV for Each shop"
      ]
    },
    {
      "cell_type": "code",
      "metadata": {
        "id": "VLxRrs0AoJMa"
      },
      "source": [
        "sales_per_shop_df = df.groupby('shop_id')['order_amount'].sum().reset_index(name='total_sales_each_shop')"
      ],
      "execution_count": 27,
      "outputs": []
    },
    {
      "cell_type": "code",
      "metadata": {
        "colab": {
          "base_uri": "https://localhost:8080/",
          "height": 414
        },
        "id": "bqNaTSfupsVp",
        "outputId": "18a5542d-5cc5-4d7f-9dab-2dea3661e9f9"
      },
      "source": [
        "sales_per_shop_df"
      ],
      "execution_count": 28,
      "outputs": [
        {
          "output_type": "execute_result",
          "data": {
            "text/html": [
              "<div>\n",
              "<style scoped>\n",
              "    .dataframe tbody tr th:only-of-type {\n",
              "        vertical-align: middle;\n",
              "    }\n",
              "\n",
              "    .dataframe tbody tr th {\n",
              "        vertical-align: top;\n",
              "    }\n",
              "\n",
              "    .dataframe thead th {\n",
              "        text-align: right;\n",
              "    }\n",
              "</style>\n",
              "<table border=\"1\" class=\"dataframe\">\n",
              "  <thead>\n",
              "    <tr style=\"text-align: right;\">\n",
              "      <th></th>\n",
              "      <th>shop_id</th>\n",
              "      <th>total_sales_each_shop</th>\n",
              "    </tr>\n",
              "  </thead>\n",
              "  <tbody>\n",
              "    <tr>\n",
              "      <th>0</th>\n",
              "      <td>1</td>\n",
              "      <td>13588</td>\n",
              "    </tr>\n",
              "    <tr>\n",
              "      <th>1</th>\n",
              "      <td>2</td>\n",
              "      <td>9588</td>\n",
              "    </tr>\n",
              "    <tr>\n",
              "      <th>2</th>\n",
              "      <td>3</td>\n",
              "      <td>14652</td>\n",
              "    </tr>\n",
              "    <tr>\n",
              "      <th>3</th>\n",
              "      <td>4</td>\n",
              "      <td>13184</td>\n",
              "    </tr>\n",
              "    <tr>\n",
              "      <th>4</th>\n",
              "      <td>5</td>\n",
              "      <td>13064</td>\n",
              "    </tr>\n",
              "    <tr>\n",
              "      <th>...</th>\n",
              "      <td>...</td>\n",
              "      <td>...</td>\n",
              "    </tr>\n",
              "    <tr>\n",
              "      <th>95</th>\n",
              "      <td>96</td>\n",
              "      <td>16830</td>\n",
              "    </tr>\n",
              "    <tr>\n",
              "      <th>96</th>\n",
              "      <td>97</td>\n",
              "      <td>15552</td>\n",
              "    </tr>\n",
              "    <tr>\n",
              "      <th>97</th>\n",
              "      <td>98</td>\n",
              "      <td>14231</td>\n",
              "    </tr>\n",
              "    <tr>\n",
              "      <th>98</th>\n",
              "      <td>99</td>\n",
              "      <td>18330</td>\n",
              "    </tr>\n",
              "    <tr>\n",
              "      <th>99</th>\n",
              "      <td>100</td>\n",
              "      <td>8547</td>\n",
              "    </tr>\n",
              "  </tbody>\n",
              "</table>\n",
              "<p>100 rows × 2 columns</p>\n",
              "</div>"
            ],
            "text/plain": [
              "    shop_id  total_sales_each_shop\n",
              "0         1                  13588\n",
              "1         2                   9588\n",
              "2         3                  14652\n",
              "3         4                  13184\n",
              "4         5                  13064\n",
              "..      ...                    ...\n",
              "95       96                  16830\n",
              "96       97                  15552\n",
              "97       98                  14231\n",
              "98       99                  18330\n",
              "99      100                   8547\n",
              "\n",
              "[100 rows x 2 columns]"
            ]
          },
          "metadata": {},
          "execution_count": 28
        }
      ]
    },
    {
      "cell_type": "code",
      "metadata": {
        "colab": {
          "base_uri": "https://localhost:8080/",
          "height": 414
        },
        "id": "im6fc-OoJvzG",
        "outputId": "6f6faaf6-e0c8-45f1-d9f4-b0da3a048b86"
      },
      "source": [
        "avg = df.groupby('shop_id')['order_amount'].mean().reset_index(name='AOV_for_each_shop')\n",
        "avg"
      ],
      "execution_count": 29,
      "outputs": [
        {
          "output_type": "execute_result",
          "data": {
            "text/html": [
              "<div>\n",
              "<style scoped>\n",
              "    .dataframe tbody tr th:only-of-type {\n",
              "        vertical-align: middle;\n",
              "    }\n",
              "\n",
              "    .dataframe tbody tr th {\n",
              "        vertical-align: top;\n",
              "    }\n",
              "\n",
              "    .dataframe thead th {\n",
              "        text-align: right;\n",
              "    }\n",
              "</style>\n",
              "<table border=\"1\" class=\"dataframe\">\n",
              "  <thead>\n",
              "    <tr style=\"text-align: right;\">\n",
              "      <th></th>\n",
              "      <th>shop_id</th>\n",
              "      <th>AOV_for_each_shop</th>\n",
              "    </tr>\n",
              "  </thead>\n",
              "  <tbody>\n",
              "    <tr>\n",
              "      <th>0</th>\n",
              "      <td>1</td>\n",
              "      <td>308.818182</td>\n",
              "    </tr>\n",
              "    <tr>\n",
              "      <th>1</th>\n",
              "      <td>2</td>\n",
              "      <td>174.327273</td>\n",
              "    </tr>\n",
              "    <tr>\n",
              "      <th>2</th>\n",
              "      <td>3</td>\n",
              "      <td>305.250000</td>\n",
              "    </tr>\n",
              "    <tr>\n",
              "      <th>3</th>\n",
              "      <td>4</td>\n",
              "      <td>258.509804</td>\n",
              "    </tr>\n",
              "    <tr>\n",
              "      <th>4</th>\n",
              "      <td>5</td>\n",
              "      <td>290.311111</td>\n",
              "    </tr>\n",
              "    <tr>\n",
              "      <th>...</th>\n",
              "      <td>...</td>\n",
              "      <td>...</td>\n",
              "    </tr>\n",
              "    <tr>\n",
              "      <th>95</th>\n",
              "      <td>96</td>\n",
              "      <td>330.000000</td>\n",
              "    </tr>\n",
              "    <tr>\n",
              "      <th>96</th>\n",
              "      <td>97</td>\n",
              "      <td>324.000000</td>\n",
              "    </tr>\n",
              "    <tr>\n",
              "      <th>97</th>\n",
              "      <td>98</td>\n",
              "      <td>245.362069</td>\n",
              "    </tr>\n",
              "    <tr>\n",
              "      <th>98</th>\n",
              "      <td>99</td>\n",
              "      <td>339.444444</td>\n",
              "    </tr>\n",
              "    <tr>\n",
              "      <th>99</th>\n",
              "      <td>100</td>\n",
              "      <td>213.675000</td>\n",
              "    </tr>\n",
              "  </tbody>\n",
              "</table>\n",
              "<p>100 rows × 2 columns</p>\n",
              "</div>"
            ],
            "text/plain": [
              "    shop_id  AOV_for_each_shop\n",
              "0         1         308.818182\n",
              "1         2         174.327273\n",
              "2         3         305.250000\n",
              "3         4         258.509804\n",
              "4         5         290.311111\n",
              "..      ...                ...\n",
              "95       96         330.000000\n",
              "96       97         324.000000\n",
              "97       98         245.362069\n",
              "98       99         339.444444\n",
              "99      100         213.675000\n",
              "\n",
              "[100 rows x 2 columns]"
            ]
          },
          "metadata": {},
          "execution_count": 29
        }
      ]
    },
    {
      "cell_type": "code",
      "metadata": {
        "colab": {
          "base_uri": "https://localhost:8080/",
          "height": 414
        },
        "id": "9yDw1BNQq_AQ",
        "outputId": "d6995078-22b3-4b72-babe-86d9aa8cd031"
      },
      "source": [
        "median_shop=df.groupby('shop_id')['order_amount'].median().reset_index(name='median_order_value_for_each_shop')\n",
        "median_shop"
      ],
      "execution_count": 30,
      "outputs": [
        {
          "output_type": "execute_result",
          "data": {
            "text/html": [
              "<div>\n",
              "<style scoped>\n",
              "    .dataframe tbody tr th:only-of-type {\n",
              "        vertical-align: middle;\n",
              "    }\n",
              "\n",
              "    .dataframe tbody tr th {\n",
              "        vertical-align: top;\n",
              "    }\n",
              "\n",
              "    .dataframe thead th {\n",
              "        text-align: right;\n",
              "    }\n",
              "</style>\n",
              "<table border=\"1\" class=\"dataframe\">\n",
              "  <thead>\n",
              "    <tr style=\"text-align: right;\">\n",
              "      <th></th>\n",
              "      <th>shop_id</th>\n",
              "      <th>median_order_value_for_each_shop</th>\n",
              "    </tr>\n",
              "  </thead>\n",
              "  <tbody>\n",
              "    <tr>\n",
              "      <th>0</th>\n",
              "      <td>1</td>\n",
              "      <td>316</td>\n",
              "    </tr>\n",
              "    <tr>\n",
              "      <th>1</th>\n",
              "      <td>2</td>\n",
              "      <td>188</td>\n",
              "    </tr>\n",
              "    <tr>\n",
              "      <th>2</th>\n",
              "      <td>3</td>\n",
              "      <td>296</td>\n",
              "    </tr>\n",
              "    <tr>\n",
              "      <th>3</th>\n",
              "      <td>4</td>\n",
              "      <td>256</td>\n",
              "    </tr>\n",
              "    <tr>\n",
              "      <th>4</th>\n",
              "      <td>5</td>\n",
              "      <td>284</td>\n",
              "    </tr>\n",
              "    <tr>\n",
              "      <th>...</th>\n",
              "      <td>...</td>\n",
              "      <td>...</td>\n",
              "    </tr>\n",
              "    <tr>\n",
              "      <th>95</th>\n",
              "      <td>96</td>\n",
              "      <td>306</td>\n",
              "    </tr>\n",
              "    <tr>\n",
              "      <th>96</th>\n",
              "      <td>97</td>\n",
              "      <td>324</td>\n",
              "    </tr>\n",
              "    <tr>\n",
              "      <th>97</th>\n",
              "      <td>98</td>\n",
              "      <td>266</td>\n",
              "    </tr>\n",
              "    <tr>\n",
              "      <th>98</th>\n",
              "      <td>99</td>\n",
              "      <td>390</td>\n",
              "    </tr>\n",
              "    <tr>\n",
              "      <th>99</th>\n",
              "      <td>100</td>\n",
              "      <td>222</td>\n",
              "    </tr>\n",
              "  </tbody>\n",
              "</table>\n",
              "<p>100 rows × 2 columns</p>\n",
              "</div>"
            ],
            "text/plain": [
              "    shop_id  median_order_value_for_each_shop\n",
              "0         1                               316\n",
              "1         2                               188\n",
              "2         3                               296\n",
              "3         4                               256\n",
              "4         5                               284\n",
              "..      ...                               ...\n",
              "95       96                               306\n",
              "96       97                               324\n",
              "97       98                               266\n",
              "98       99                               390\n",
              "99      100                               222\n",
              "\n",
              "[100 rows x 2 columns]"
            ]
          },
          "metadata": {},
          "execution_count": 30
        }
      ]
    },
    {
      "cell_type": "code",
      "metadata": {
        "colab": {
          "base_uri": "https://localhost:8080/",
          "height": 414
        },
        "id": "rYAfK_UQrXDf",
        "outputId": "3c4b2910-cdc0-4001-a9c0-0e40f28fa33a"
      },
      "source": [
        "temp_data = [sales_per_shop_df,avg['AOV_for_each_shop'],median_shop['median_order_value_for_each_shop']]\n",
        "sales_per_shop_df = pd.concat(temp_data, axis=1)\n",
        "sales_per_shop_df "
      ],
      "execution_count": 31,
      "outputs": [
        {
          "output_type": "execute_result",
          "data": {
            "text/html": [
              "<div>\n",
              "<style scoped>\n",
              "    .dataframe tbody tr th:only-of-type {\n",
              "        vertical-align: middle;\n",
              "    }\n",
              "\n",
              "    .dataframe tbody tr th {\n",
              "        vertical-align: top;\n",
              "    }\n",
              "\n",
              "    .dataframe thead th {\n",
              "        text-align: right;\n",
              "    }\n",
              "</style>\n",
              "<table border=\"1\" class=\"dataframe\">\n",
              "  <thead>\n",
              "    <tr style=\"text-align: right;\">\n",
              "      <th></th>\n",
              "      <th>shop_id</th>\n",
              "      <th>total_sales_each_shop</th>\n",
              "      <th>AOV_for_each_shop</th>\n",
              "      <th>median_order_value_for_each_shop</th>\n",
              "    </tr>\n",
              "  </thead>\n",
              "  <tbody>\n",
              "    <tr>\n",
              "      <th>0</th>\n",
              "      <td>1</td>\n",
              "      <td>13588</td>\n",
              "      <td>308.818182</td>\n",
              "      <td>316</td>\n",
              "    </tr>\n",
              "    <tr>\n",
              "      <th>1</th>\n",
              "      <td>2</td>\n",
              "      <td>9588</td>\n",
              "      <td>174.327273</td>\n",
              "      <td>188</td>\n",
              "    </tr>\n",
              "    <tr>\n",
              "      <th>2</th>\n",
              "      <td>3</td>\n",
              "      <td>14652</td>\n",
              "      <td>305.250000</td>\n",
              "      <td>296</td>\n",
              "    </tr>\n",
              "    <tr>\n",
              "      <th>3</th>\n",
              "      <td>4</td>\n",
              "      <td>13184</td>\n",
              "      <td>258.509804</td>\n",
              "      <td>256</td>\n",
              "    </tr>\n",
              "    <tr>\n",
              "      <th>4</th>\n",
              "      <td>5</td>\n",
              "      <td>13064</td>\n",
              "      <td>290.311111</td>\n",
              "      <td>284</td>\n",
              "    </tr>\n",
              "    <tr>\n",
              "      <th>...</th>\n",
              "      <td>...</td>\n",
              "      <td>...</td>\n",
              "      <td>...</td>\n",
              "      <td>...</td>\n",
              "    </tr>\n",
              "    <tr>\n",
              "      <th>95</th>\n",
              "      <td>96</td>\n",
              "      <td>16830</td>\n",
              "      <td>330.000000</td>\n",
              "      <td>306</td>\n",
              "    </tr>\n",
              "    <tr>\n",
              "      <th>96</th>\n",
              "      <td>97</td>\n",
              "      <td>15552</td>\n",
              "      <td>324.000000</td>\n",
              "      <td>324</td>\n",
              "    </tr>\n",
              "    <tr>\n",
              "      <th>97</th>\n",
              "      <td>98</td>\n",
              "      <td>14231</td>\n",
              "      <td>245.362069</td>\n",
              "      <td>266</td>\n",
              "    </tr>\n",
              "    <tr>\n",
              "      <th>98</th>\n",
              "      <td>99</td>\n",
              "      <td>18330</td>\n",
              "      <td>339.444444</td>\n",
              "      <td>390</td>\n",
              "    </tr>\n",
              "    <tr>\n",
              "      <th>99</th>\n",
              "      <td>100</td>\n",
              "      <td>8547</td>\n",
              "      <td>213.675000</td>\n",
              "      <td>222</td>\n",
              "    </tr>\n",
              "  </tbody>\n",
              "</table>\n",
              "<p>100 rows × 4 columns</p>\n",
              "</div>"
            ],
            "text/plain": [
              "    shop_id  ...  median_order_value_for_each_shop\n",
              "0         1  ...                               316\n",
              "1         2  ...                               188\n",
              "2         3  ...                               296\n",
              "3         4  ...                               256\n",
              "4         5  ...                               284\n",
              "..      ...  ...                               ...\n",
              "95       96  ...                               306\n",
              "96       97  ...                               324\n",
              "97       98  ...                               266\n",
              "98       99  ...                               390\n",
              "99      100  ...                               222\n",
              "\n",
              "[100 rows x 4 columns]"
            ]
          },
          "metadata": {},
          "execution_count": 31
        }
      ]
    },
    {
      "cell_type": "markdown",
      "metadata": {
        "id": "Nz3hjCdnhCSb"
      },
      "source": [
        "2) Calculating Median order value"
      ]
    },
    {
      "cell_type": "code",
      "metadata": {
        "colab": {
          "base_uri": "https://localhost:8080/"
        },
        "id": "ujOWZVNTpo_c",
        "outputId": "c7289246-2160-4e61-ddc7-e9079eb86cdb"
      },
      "source": [
        "df.order_amount.median()"
      ],
      "execution_count": 32,
      "outputs": [
        {
          "output_type": "execute_result",
          "data": {
            "text/plain": [
              "284.0"
            ]
          },
          "metadata": {},
          "execution_count": 32
        }
      ]
    },
    {
      "cell_type": "markdown",
      "metadata": {
        "id": "bZ4u-K3GhIQx"
      },
      "source": [
        "Median order amount for all the shops' sneaker sales is $284"
      ]
    },
    {
      "cell_type": "code",
      "metadata": {
        "colab": {
          "base_uri": "https://localhost:8080/",
          "height": 294
        },
        "id": "bTpFADZM72Z8",
        "outputId": "9cef4b45-b3ae-4d94-ea78-50a263627e0a"
      },
      "source": [
        "total_sales_df=df.groupby('total_items')['order_amount'].sum().rename_axis('total_items').reset_index(name='total_sales')\n",
        "total_sales_df"
      ],
      "execution_count": 33,
      "outputs": [
        {
          "output_type": "execute_result",
          "data": {
            "text/html": [
              "<div>\n",
              "<style scoped>\n",
              "    .dataframe tbody tr th:only-of-type {\n",
              "        vertical-align: middle;\n",
              "    }\n",
              "\n",
              "    .dataframe tbody tr th {\n",
              "        vertical-align: top;\n",
              "    }\n",
              "\n",
              "    .dataframe thead th {\n",
              "        text-align: right;\n",
              "    }\n",
              "</style>\n",
              "<table border=\"1\" class=\"dataframe\">\n",
              "  <thead>\n",
              "    <tr style=\"text-align: right;\">\n",
              "      <th></th>\n",
              "      <th>total_items</th>\n",
              "      <th>total_sales</th>\n",
              "    </tr>\n",
              "  </thead>\n",
              "  <tbody>\n",
              "    <tr>\n",
              "      <th>0</th>\n",
              "      <td>1</td>\n",
              "      <td>763777</td>\n",
              "    </tr>\n",
              "    <tr>\n",
              "      <th>1</th>\n",
              "      <td>2</td>\n",
              "      <td>1374394</td>\n",
              "    </tr>\n",
              "    <tr>\n",
              "      <th>2</th>\n",
              "      <td>3</td>\n",
              "      <td>1120803</td>\n",
              "    </tr>\n",
              "    <tr>\n",
              "      <th>3</th>\n",
              "      <td>4</td>\n",
              "      <td>277672</td>\n",
              "    </tr>\n",
              "    <tr>\n",
              "      <th>4</th>\n",
              "      <td>5</td>\n",
              "      <td>58470</td>\n",
              "    </tr>\n",
              "    <tr>\n",
              "      <th>5</th>\n",
              "      <td>6</td>\n",
              "      <td>161460</td>\n",
              "    </tr>\n",
              "    <tr>\n",
              "      <th>6</th>\n",
              "      <td>8</td>\n",
              "      <td>1064</td>\n",
              "    </tr>\n",
              "    <tr>\n",
              "      <th>7</th>\n",
              "      <td>2000</td>\n",
              "      <td>11968000</td>\n",
              "    </tr>\n",
              "  </tbody>\n",
              "</table>\n",
              "</div>"
            ],
            "text/plain": [
              "   total_items  total_sales\n",
              "0            1       763777\n",
              "1            2      1374394\n",
              "2            3      1120803\n",
              "3            4       277672\n",
              "4            5        58470\n",
              "5            6       161460\n",
              "6            8         1064\n",
              "7         2000     11968000"
            ]
          },
          "metadata": {},
          "execution_count": 33
        }
      ]
    },
    {
      "cell_type": "code",
      "metadata": {
        "colab": {
          "base_uri": "https://localhost:8080/",
          "height": 294
        },
        "id": "gLv0N34GHpkz",
        "outputId": "1cccb109-ac9e-4ff6-cae5-e63e45335f4d"
      },
      "source": [
        "total_items_count = df.total_items.value_counts().rename_axis('total_items').reset_index(name='count')\n",
        "total_items_count1 = total_items_count.sort_values(['total_items', 'count'], ascending=[True, False])\n",
        "total_items_count1"
      ],
      "execution_count": 34,
      "outputs": [
        {
          "output_type": "execute_result",
          "data": {
            "text/html": [
              "<div>\n",
              "<style scoped>\n",
              "    .dataframe tbody tr th:only-of-type {\n",
              "        vertical-align: middle;\n",
              "    }\n",
              "\n",
              "    .dataframe tbody tr th {\n",
              "        vertical-align: top;\n",
              "    }\n",
              "\n",
              "    .dataframe thead th {\n",
              "        text-align: right;\n",
              "    }\n",
              "</style>\n",
              "<table border=\"1\" class=\"dataframe\">\n",
              "  <thead>\n",
              "    <tr style=\"text-align: right;\">\n",
              "      <th></th>\n",
              "      <th>total_items</th>\n",
              "      <th>count</th>\n",
              "    </tr>\n",
              "  </thead>\n",
              "  <tbody>\n",
              "    <tr>\n",
              "      <th>1</th>\n",
              "      <td>1</td>\n",
              "      <td>1830</td>\n",
              "    </tr>\n",
              "    <tr>\n",
              "      <th>0</th>\n",
              "      <td>2</td>\n",
              "      <td>1832</td>\n",
              "    </tr>\n",
              "    <tr>\n",
              "      <th>2</th>\n",
              "      <td>3</td>\n",
              "      <td>941</td>\n",
              "    </tr>\n",
              "    <tr>\n",
              "      <th>3</th>\n",
              "      <td>4</td>\n",
              "      <td>293</td>\n",
              "    </tr>\n",
              "    <tr>\n",
              "      <th>4</th>\n",
              "      <td>5</td>\n",
              "      <td>77</td>\n",
              "    </tr>\n",
              "    <tr>\n",
              "      <th>6</th>\n",
              "      <td>6</td>\n",
              "      <td>9</td>\n",
              "    </tr>\n",
              "    <tr>\n",
              "      <th>7</th>\n",
              "      <td>8</td>\n",
              "      <td>1</td>\n",
              "    </tr>\n",
              "    <tr>\n",
              "      <th>5</th>\n",
              "      <td>2000</td>\n",
              "      <td>17</td>\n",
              "    </tr>\n",
              "  </tbody>\n",
              "</table>\n",
              "</div>"
            ],
            "text/plain": [
              "   total_items  count\n",
              "1            1   1830\n",
              "0            2   1832\n",
              "2            3    941\n",
              "3            4    293\n",
              "4            5     77\n",
              "6            6      9\n",
              "7            8      1\n",
              "5         2000     17"
            ]
          },
          "metadata": {},
          "execution_count": 34
        }
      ]
    },
    {
      "cell_type": "code",
      "metadata": {
        "colab": {
          "base_uri": "https://localhost:8080/",
          "height": 294
        },
        "id": "IwdZBf4X_2Wu",
        "outputId": "eec7a125-66d5-42a3-c6c9-88ee4f148a5a"
      },
      "source": [
        "data = [total_sales_df['total_items'],total_sales_df['total_sales']]\n",
        "result_df = pd.concat(data, axis=1)\n",
        "#result_df = result_df.sort_values(['total_items','count'], ascending=[True, False])\n",
        "result_df"
      ],
      "execution_count": 35,
      "outputs": [
        {
          "output_type": "execute_result",
          "data": {
            "text/html": [
              "<div>\n",
              "<style scoped>\n",
              "    .dataframe tbody tr th:only-of-type {\n",
              "        vertical-align: middle;\n",
              "    }\n",
              "\n",
              "    .dataframe tbody tr th {\n",
              "        vertical-align: top;\n",
              "    }\n",
              "\n",
              "    .dataframe thead th {\n",
              "        text-align: right;\n",
              "    }\n",
              "</style>\n",
              "<table border=\"1\" class=\"dataframe\">\n",
              "  <thead>\n",
              "    <tr style=\"text-align: right;\">\n",
              "      <th></th>\n",
              "      <th>total_items</th>\n",
              "      <th>total_sales</th>\n",
              "    </tr>\n",
              "  </thead>\n",
              "  <tbody>\n",
              "    <tr>\n",
              "      <th>0</th>\n",
              "      <td>1</td>\n",
              "      <td>763777</td>\n",
              "    </tr>\n",
              "    <tr>\n",
              "      <th>1</th>\n",
              "      <td>2</td>\n",
              "      <td>1374394</td>\n",
              "    </tr>\n",
              "    <tr>\n",
              "      <th>2</th>\n",
              "      <td>3</td>\n",
              "      <td>1120803</td>\n",
              "    </tr>\n",
              "    <tr>\n",
              "      <th>3</th>\n",
              "      <td>4</td>\n",
              "      <td>277672</td>\n",
              "    </tr>\n",
              "    <tr>\n",
              "      <th>4</th>\n",
              "      <td>5</td>\n",
              "      <td>58470</td>\n",
              "    </tr>\n",
              "    <tr>\n",
              "      <th>5</th>\n",
              "      <td>6</td>\n",
              "      <td>161460</td>\n",
              "    </tr>\n",
              "    <tr>\n",
              "      <th>6</th>\n",
              "      <td>8</td>\n",
              "      <td>1064</td>\n",
              "    </tr>\n",
              "    <tr>\n",
              "      <th>7</th>\n",
              "      <td>2000</td>\n",
              "      <td>11968000</td>\n",
              "    </tr>\n",
              "  </tbody>\n",
              "</table>\n",
              "</div>"
            ],
            "text/plain": [
              "   total_items  total_sales\n",
              "0            1       763777\n",
              "1            2      1374394\n",
              "2            3      1120803\n",
              "3            4       277672\n",
              "4            5        58470\n",
              "5            6       161460\n",
              "6            8         1064\n",
              "7         2000     11968000"
            ]
          },
          "metadata": {},
          "execution_count": 35
        }
      ]
    },
    {
      "cell_type": "code",
      "metadata": {
        "id": "r_5iit7OFw6m"
      },
      "source": [
        "count= (1830,1832,941,293,77,9,1,17)\n",
        "result_df['count'] = count"
      ],
      "execution_count": 36,
      "outputs": []
    },
    {
      "cell_type": "code",
      "metadata": {
        "colab": {
          "base_uri": "https://localhost:8080/",
          "height": 294
        },
        "id": "-YZy_KoBFIyz",
        "outputId": "1bd10198-5688-4932-9074-fbfb3faaabf9"
      },
      "source": [
        "result_df"
      ],
      "execution_count": 37,
      "outputs": [
        {
          "output_type": "execute_result",
          "data": {
            "text/html": [
              "<div>\n",
              "<style scoped>\n",
              "    .dataframe tbody tr th:only-of-type {\n",
              "        vertical-align: middle;\n",
              "    }\n",
              "\n",
              "    .dataframe tbody tr th {\n",
              "        vertical-align: top;\n",
              "    }\n",
              "\n",
              "    .dataframe thead th {\n",
              "        text-align: right;\n",
              "    }\n",
              "</style>\n",
              "<table border=\"1\" class=\"dataframe\">\n",
              "  <thead>\n",
              "    <tr style=\"text-align: right;\">\n",
              "      <th></th>\n",
              "      <th>total_items</th>\n",
              "      <th>total_sales</th>\n",
              "      <th>count</th>\n",
              "    </tr>\n",
              "  </thead>\n",
              "  <tbody>\n",
              "    <tr>\n",
              "      <th>0</th>\n",
              "      <td>1</td>\n",
              "      <td>763777</td>\n",
              "      <td>1830</td>\n",
              "    </tr>\n",
              "    <tr>\n",
              "      <th>1</th>\n",
              "      <td>2</td>\n",
              "      <td>1374394</td>\n",
              "      <td>1832</td>\n",
              "    </tr>\n",
              "    <tr>\n",
              "      <th>2</th>\n",
              "      <td>3</td>\n",
              "      <td>1120803</td>\n",
              "      <td>941</td>\n",
              "    </tr>\n",
              "    <tr>\n",
              "      <th>3</th>\n",
              "      <td>4</td>\n",
              "      <td>277672</td>\n",
              "      <td>293</td>\n",
              "    </tr>\n",
              "    <tr>\n",
              "      <th>4</th>\n",
              "      <td>5</td>\n",
              "      <td>58470</td>\n",
              "      <td>77</td>\n",
              "    </tr>\n",
              "    <tr>\n",
              "      <th>5</th>\n",
              "      <td>6</td>\n",
              "      <td>161460</td>\n",
              "      <td>9</td>\n",
              "    </tr>\n",
              "    <tr>\n",
              "      <th>6</th>\n",
              "      <td>8</td>\n",
              "      <td>1064</td>\n",
              "      <td>1</td>\n",
              "    </tr>\n",
              "    <tr>\n",
              "      <th>7</th>\n",
              "      <td>2000</td>\n",
              "      <td>11968000</td>\n",
              "      <td>17</td>\n",
              "    </tr>\n",
              "  </tbody>\n",
              "</table>\n",
              "</div>"
            ],
            "text/plain": [
              "   total_items  total_sales  count\n",
              "0            1       763777   1830\n",
              "1            2      1374394   1832\n",
              "2            3      1120803    941\n",
              "3            4       277672    293\n",
              "4            5        58470     77\n",
              "5            6       161460      9\n",
              "6            8         1064      1\n",
              "7         2000     11968000     17"
            ]
          },
          "metadata": {},
          "execution_count": 37
        }
      ]
    },
    {
      "cell_type": "code",
      "metadata": {
        "colab": {
          "base_uri": "https://localhost:8080/",
          "height": 294
        },
        "id": "TCZKLZSBZYL4",
        "outputId": "5b7fc7af-a9c9-468a-eed5-ac3c88e1224d"
      },
      "source": [
        "median=df.groupby('total_items')['order_amount'].median().reset_index(name='median_order_value')\n",
        "median"
      ],
      "execution_count": 38,
      "outputs": [
        {
          "output_type": "execute_result",
          "data": {
            "text/html": [
              "<div>\n",
              "<style scoped>\n",
              "    .dataframe tbody tr th:only-of-type {\n",
              "        vertical-align: middle;\n",
              "    }\n",
              "\n",
              "    .dataframe tbody tr th {\n",
              "        vertical-align: top;\n",
              "    }\n",
              "\n",
              "    .dataframe thead th {\n",
              "        text-align: right;\n",
              "    }\n",
              "</style>\n",
              "<table border=\"1\" class=\"dataframe\">\n",
              "  <thead>\n",
              "    <tr style=\"text-align: right;\">\n",
              "      <th></th>\n",
              "      <th>total_items</th>\n",
              "      <th>median_order_value</th>\n",
              "    </tr>\n",
              "  </thead>\n",
              "  <tbody>\n",
              "    <tr>\n",
              "      <th>0</th>\n",
              "      <td>1</td>\n",
              "      <td>153</td>\n",
              "    </tr>\n",
              "    <tr>\n",
              "      <th>1</th>\n",
              "      <td>2</td>\n",
              "      <td>306</td>\n",
              "    </tr>\n",
              "    <tr>\n",
              "      <th>2</th>\n",
              "      <td>3</td>\n",
              "      <td>459</td>\n",
              "    </tr>\n",
              "    <tr>\n",
              "      <th>3</th>\n",
              "      <td>4</td>\n",
              "      <td>592</td>\n",
              "    </tr>\n",
              "    <tr>\n",
              "      <th>4</th>\n",
              "      <td>5</td>\n",
              "      <td>765</td>\n",
              "    </tr>\n",
              "    <tr>\n",
              "      <th>5</th>\n",
              "      <td>6</td>\n",
              "      <td>948</td>\n",
              "    </tr>\n",
              "    <tr>\n",
              "      <th>6</th>\n",
              "      <td>8</td>\n",
              "      <td>1064</td>\n",
              "    </tr>\n",
              "    <tr>\n",
              "      <th>7</th>\n",
              "      <td>2000</td>\n",
              "      <td>704000</td>\n",
              "    </tr>\n",
              "  </tbody>\n",
              "</table>\n",
              "</div>"
            ],
            "text/plain": [
              "   total_items  median_order_value\n",
              "0            1                 153\n",
              "1            2                 306\n",
              "2            3                 459\n",
              "3            4                 592\n",
              "4            5                 765\n",
              "5            6                 948\n",
              "6            8                1064\n",
              "7         2000              704000"
            ]
          },
          "metadata": {},
          "execution_count": 38
        }
      ]
    },
    {
      "cell_type": "code",
      "metadata": {
        "colab": {
          "base_uri": "https://localhost:8080/",
          "height": 294
        },
        "id": "sQk0TXogbHnL",
        "outputId": "6d308e07-dbd3-46d3-a502-7977d6648e07"
      },
      "source": [
        "median_data = [result_df,median['median_order_value']]\n",
        "result_df = pd.concat(median_data, axis=1)\n",
        "result_df"
      ],
      "execution_count": 39,
      "outputs": [
        {
          "output_type": "execute_result",
          "data": {
            "text/html": [
              "<div>\n",
              "<style scoped>\n",
              "    .dataframe tbody tr th:only-of-type {\n",
              "        vertical-align: middle;\n",
              "    }\n",
              "\n",
              "    .dataframe tbody tr th {\n",
              "        vertical-align: top;\n",
              "    }\n",
              "\n",
              "    .dataframe thead th {\n",
              "        text-align: right;\n",
              "    }\n",
              "</style>\n",
              "<table border=\"1\" class=\"dataframe\">\n",
              "  <thead>\n",
              "    <tr style=\"text-align: right;\">\n",
              "      <th></th>\n",
              "      <th>total_items</th>\n",
              "      <th>total_sales</th>\n",
              "      <th>count</th>\n",
              "      <th>median_order_value</th>\n",
              "    </tr>\n",
              "  </thead>\n",
              "  <tbody>\n",
              "    <tr>\n",
              "      <th>0</th>\n",
              "      <td>1</td>\n",
              "      <td>763777</td>\n",
              "      <td>1830</td>\n",
              "      <td>153</td>\n",
              "    </tr>\n",
              "    <tr>\n",
              "      <th>1</th>\n",
              "      <td>2</td>\n",
              "      <td>1374394</td>\n",
              "      <td>1832</td>\n",
              "      <td>306</td>\n",
              "    </tr>\n",
              "    <tr>\n",
              "      <th>2</th>\n",
              "      <td>3</td>\n",
              "      <td>1120803</td>\n",
              "      <td>941</td>\n",
              "      <td>459</td>\n",
              "    </tr>\n",
              "    <tr>\n",
              "      <th>3</th>\n",
              "      <td>4</td>\n",
              "      <td>277672</td>\n",
              "      <td>293</td>\n",
              "      <td>592</td>\n",
              "    </tr>\n",
              "    <tr>\n",
              "      <th>4</th>\n",
              "      <td>5</td>\n",
              "      <td>58470</td>\n",
              "      <td>77</td>\n",
              "      <td>765</td>\n",
              "    </tr>\n",
              "    <tr>\n",
              "      <th>5</th>\n",
              "      <td>6</td>\n",
              "      <td>161460</td>\n",
              "      <td>9</td>\n",
              "      <td>948</td>\n",
              "    </tr>\n",
              "    <tr>\n",
              "      <th>6</th>\n",
              "      <td>8</td>\n",
              "      <td>1064</td>\n",
              "      <td>1</td>\n",
              "      <td>1064</td>\n",
              "    </tr>\n",
              "    <tr>\n",
              "      <th>7</th>\n",
              "      <td>2000</td>\n",
              "      <td>11968000</td>\n",
              "      <td>17</td>\n",
              "      <td>704000</td>\n",
              "    </tr>\n",
              "  </tbody>\n",
              "</table>\n",
              "</div>"
            ],
            "text/plain": [
              "   total_items  total_sales  count  median_order_value\n",
              "0            1       763777   1830                 153\n",
              "1            2      1374394   1832                 306\n",
              "2            3      1120803    941                 459\n",
              "3            4       277672    293                 592\n",
              "4            5        58470     77                 765\n",
              "5            6       161460      9                 948\n",
              "6            8         1064      1                1064\n",
              "7         2000     11968000     17              704000"
            ]
          },
          "metadata": {},
          "execution_count": 39
        }
      ]
    },
    {
      "cell_type": "code",
      "metadata": {
        "id": "jeRnGW-kjn1C"
      },
      "source": [
        "sales_per_shop_df.to_csv('AOV_For_Each_Shop.csv',index=False)"
      ],
      "execution_count": 41,
      "outputs": []
    },
    {
      "cell_type": "code",
      "metadata": {
        "id": "j_C1fIirkyyG"
      },
      "source": [
        "result_df.to_csv('Median_Order_Value_for_number_of_items_per_order.csv',index=False)"
      ],
      "execution_count": 42,
      "outputs": []
    }
  ]
}